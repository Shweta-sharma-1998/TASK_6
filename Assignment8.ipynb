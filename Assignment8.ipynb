{
  "cells": [
    {
      "cell_type": "markdown",
      "metadata": {
        "id": "view-in-github",
        "colab_type": "text"
      },
      "source": [
        "<a href=\"https://colab.research.google.com/github/Shweta-sharma-1998/TASK_6/blob/main/Assignment8.ipynb\" target=\"_parent\"><img src=\"https://colab.research.google.com/assets/colab-badge.svg\" alt=\"Open In Colab\"/></a>"
      ]
    },
    {
      "cell_type": "markdown",
      "metadata": {
        "id": "iWwwE05i8jlX"
      },
      "source": [
        "# Assignment8"
      ]
    },
    {
      "cell_type": "code",
      "execution_count": 135,
      "metadata": {
        "collapsed": true,
        "id": "_LfbzEtR8jla"
      },
      "outputs": [],
      "source": [
        "import pandas as pd\n",
        "import matplotlib.pyplot as plt\n",
        "import numpy as np\n",
        "from sklearn import linear_model"
      ]
    },
    {
      "cell_type": "markdown",
      "metadata": {
        "id": "kFUgVQRj8jlc"
      },
      "source": [
        "# How Much is Your Car Worth?\n",
        "\n",
        "Data about the retail price of 2005 General Motors cars can be found in `car_data.csv`.\n",
        "\n",
        "The columns are:\n",
        "\n",
        "1. Price: suggested retail price of the used 2005 GM car in excellent condition.\n",
        "2. Mileage: number of miles the car has been driven\n",
        "3. Make: manufacturer of the car such as Saturn, Pontiac, and Chevrolet\n",
        "4. Model: specific models for each car manufacturer such as Ion, Vibe, Cavalier\n",
        "5. Trim (of car): specific type of car model such as SE Sedan 4D, Quad Coupe 2D          \n",
        "6. Type: body type such as sedan, coupe, etc.      \n",
        "7. Cylinder: number of cylinders in the engine        \n",
        "8. Liter: a more specific measure of engine size     \n",
        "9. Doors: number of doors           \n",
        "10. Cruise: indicator variable representing whether the car has cruise control (1 = cruise)\n",
        "11. Sound: indicator variable representing whether the car has upgraded speakers (1 = upgraded)\n",
        "12. Leather: indicator variable representing whether the car has leather seats (1 = leather)\n",
        "\n",
        "## Tasks, Part 1\n",
        "\n",
        "1. Find the linear regression equation for mileage vs price.\n",
        "2. Chart the original data and the equation on the chart.\n",
        "3. Find the equation's $R^2$ score (use the `.score` method) to determine whether the\n",
        "equation is a good fit for this data. (0.8 and greater is considered a strong correlation.)\n",
        "\n",
        "## Tasks, Part 2\n",
        "\n",
        "1. Use mileage, cylinders, liters, doors, cruise, sound, and leather to find the linear regression equation.\n",
        "2. Find the equation's $R^2$ score (use the `.score` method) to determine whether the\n",
        "equation is a good fit for this data. (0.8 and greater is considered a strong correlation.)\n",
        "3. Find the combination of the factors that is the best predictor for price.\n",
        "\n",
        "## Tasks, Hard Mode\n",
        "\n",
        "1. Research dummy variables in scikit-learn to see how to use the make, model, and body type.\n",
        "2. Find the best combination of factors to predict price."
      ]
    },
    {
      "cell_type": "code",
      "execution_count": 136,
      "metadata": {
        "id": "VUCd5tId8jld"
      },
      "outputs": [],
      "source": [
        "df = pd.read_csv(\"car_data.csv\")"
      ]
    },
    {
      "cell_type": "code",
      "source": [
        "df"
      ],
      "metadata": {
        "colab": {
          "base_uri": "https://localhost:8080/",
          "height": 423
        },
        "id": "vfO8Y-8V9gWj",
        "outputId": "94942ce7-3a2c-4808-8de9-8f206a67bb52"
      },
      "execution_count": 137,
      "outputs": [
        {
          "output_type": "execute_result",
          "data": {
            "text/plain": [
              "            Price  Mileage    Make     Model           Trim   Type  Cylinder  \\\n",
              "0    17314.103129     8221   Buick   Century       Sedan 4D  Sedan         6   \n",
              "1    17542.036083     9135   Buick   Century       Sedan 4D  Sedan         6   \n",
              "2    16218.847862    13196   Buick   Century       Sedan 4D  Sedan         6   \n",
              "3    16336.913140    16342   Buick   Century       Sedan 4D  Sedan         6   \n",
              "4    16339.170324    19832   Buick   Century       Sedan 4D  Sedan         6   \n",
              "..            ...      ...     ...       ...            ...    ...       ...   \n",
              "799  16507.070267    16229  Saturn  L Series  L300 Sedan 4D  Sedan         6   \n",
              "800  16175.957604    19095  Saturn  L Series  L300 Sedan 4D  Sedan         6   \n",
              "801  15731.132897    20484  Saturn  L Series  L300 Sedan 4D  Sedan         6   \n",
              "802  15118.893228    25979  Saturn  L Series  L300 Sedan 4D  Sedan         6   \n",
              "803  13585.636802    35662  Saturn  L Series  L300 Sedan 4D  Sedan         6   \n",
              "\n",
              "     Liter  Doors  Cruise  Sound  Leather  \n",
              "0      3.1      4       1      1        1  \n",
              "1      3.1      4       1      1        0  \n",
              "2      3.1      4       1      1        0  \n",
              "3      3.1      4       1      0        0  \n",
              "4      3.1      4       1      0        1  \n",
              "..     ...    ...     ...    ...      ...  \n",
              "799    3.0      4       1      0        0  \n",
              "800    3.0      4       1      1        0  \n",
              "801    3.0      4       1      1        0  \n",
              "802    3.0      4       1      1        0  \n",
              "803    3.0      4       1      0        0  \n",
              "\n",
              "[804 rows x 12 columns]"
            ],
            "text/html": [
              "\n",
              "  <div id=\"df-5124c542-a22b-4eec-8552-ff30f9fcafe4\">\n",
              "    <div class=\"colab-df-container\">\n",
              "      <div>\n",
              "<style scoped>\n",
              "    .dataframe tbody tr th:only-of-type {\n",
              "        vertical-align: middle;\n",
              "    }\n",
              "\n",
              "    .dataframe tbody tr th {\n",
              "        vertical-align: top;\n",
              "    }\n",
              "\n",
              "    .dataframe thead th {\n",
              "        text-align: right;\n",
              "    }\n",
              "</style>\n",
              "<table border=\"1\" class=\"dataframe\">\n",
              "  <thead>\n",
              "    <tr style=\"text-align: right;\">\n",
              "      <th></th>\n",
              "      <th>Price</th>\n",
              "      <th>Mileage</th>\n",
              "      <th>Make</th>\n",
              "      <th>Model</th>\n",
              "      <th>Trim</th>\n",
              "      <th>Type</th>\n",
              "      <th>Cylinder</th>\n",
              "      <th>Liter</th>\n",
              "      <th>Doors</th>\n",
              "      <th>Cruise</th>\n",
              "      <th>Sound</th>\n",
              "      <th>Leather</th>\n",
              "    </tr>\n",
              "  </thead>\n",
              "  <tbody>\n",
              "    <tr>\n",
              "      <th>0</th>\n",
              "      <td>17314.103129</td>\n",
              "      <td>8221</td>\n",
              "      <td>Buick</td>\n",
              "      <td>Century</td>\n",
              "      <td>Sedan 4D</td>\n",
              "      <td>Sedan</td>\n",
              "      <td>6</td>\n",
              "      <td>3.1</td>\n",
              "      <td>4</td>\n",
              "      <td>1</td>\n",
              "      <td>1</td>\n",
              "      <td>1</td>\n",
              "    </tr>\n",
              "    <tr>\n",
              "      <th>1</th>\n",
              "      <td>17542.036083</td>\n",
              "      <td>9135</td>\n",
              "      <td>Buick</td>\n",
              "      <td>Century</td>\n",
              "      <td>Sedan 4D</td>\n",
              "      <td>Sedan</td>\n",
              "      <td>6</td>\n",
              "      <td>3.1</td>\n",
              "      <td>4</td>\n",
              "      <td>1</td>\n",
              "      <td>1</td>\n",
              "      <td>0</td>\n",
              "    </tr>\n",
              "    <tr>\n",
              "      <th>2</th>\n",
              "      <td>16218.847862</td>\n",
              "      <td>13196</td>\n",
              "      <td>Buick</td>\n",
              "      <td>Century</td>\n",
              "      <td>Sedan 4D</td>\n",
              "      <td>Sedan</td>\n",
              "      <td>6</td>\n",
              "      <td>3.1</td>\n",
              "      <td>4</td>\n",
              "      <td>1</td>\n",
              "      <td>1</td>\n",
              "      <td>0</td>\n",
              "    </tr>\n",
              "    <tr>\n",
              "      <th>3</th>\n",
              "      <td>16336.913140</td>\n",
              "      <td>16342</td>\n",
              "      <td>Buick</td>\n",
              "      <td>Century</td>\n",
              "      <td>Sedan 4D</td>\n",
              "      <td>Sedan</td>\n",
              "      <td>6</td>\n",
              "      <td>3.1</td>\n",
              "      <td>4</td>\n",
              "      <td>1</td>\n",
              "      <td>0</td>\n",
              "      <td>0</td>\n",
              "    </tr>\n",
              "    <tr>\n",
              "      <th>4</th>\n",
              "      <td>16339.170324</td>\n",
              "      <td>19832</td>\n",
              "      <td>Buick</td>\n",
              "      <td>Century</td>\n",
              "      <td>Sedan 4D</td>\n",
              "      <td>Sedan</td>\n",
              "      <td>6</td>\n",
              "      <td>3.1</td>\n",
              "      <td>4</td>\n",
              "      <td>1</td>\n",
              "      <td>0</td>\n",
              "      <td>1</td>\n",
              "    </tr>\n",
              "    <tr>\n",
              "      <th>...</th>\n",
              "      <td>...</td>\n",
              "      <td>...</td>\n",
              "      <td>...</td>\n",
              "      <td>...</td>\n",
              "      <td>...</td>\n",
              "      <td>...</td>\n",
              "      <td>...</td>\n",
              "      <td>...</td>\n",
              "      <td>...</td>\n",
              "      <td>...</td>\n",
              "      <td>...</td>\n",
              "      <td>...</td>\n",
              "    </tr>\n",
              "    <tr>\n",
              "      <th>799</th>\n",
              "      <td>16507.070267</td>\n",
              "      <td>16229</td>\n",
              "      <td>Saturn</td>\n",
              "      <td>L Series</td>\n",
              "      <td>L300 Sedan 4D</td>\n",
              "      <td>Sedan</td>\n",
              "      <td>6</td>\n",
              "      <td>3.0</td>\n",
              "      <td>4</td>\n",
              "      <td>1</td>\n",
              "      <td>0</td>\n",
              "      <td>0</td>\n",
              "    </tr>\n",
              "    <tr>\n",
              "      <th>800</th>\n",
              "      <td>16175.957604</td>\n",
              "      <td>19095</td>\n",
              "      <td>Saturn</td>\n",
              "      <td>L Series</td>\n",
              "      <td>L300 Sedan 4D</td>\n",
              "      <td>Sedan</td>\n",
              "      <td>6</td>\n",
              "      <td>3.0</td>\n",
              "      <td>4</td>\n",
              "      <td>1</td>\n",
              "      <td>1</td>\n",
              "      <td>0</td>\n",
              "    </tr>\n",
              "    <tr>\n",
              "      <th>801</th>\n",
              "      <td>15731.132897</td>\n",
              "      <td>20484</td>\n",
              "      <td>Saturn</td>\n",
              "      <td>L Series</td>\n",
              "      <td>L300 Sedan 4D</td>\n",
              "      <td>Sedan</td>\n",
              "      <td>6</td>\n",
              "      <td>3.0</td>\n",
              "      <td>4</td>\n",
              "      <td>1</td>\n",
              "      <td>1</td>\n",
              "      <td>0</td>\n",
              "    </tr>\n",
              "    <tr>\n",
              "      <th>802</th>\n",
              "      <td>15118.893228</td>\n",
              "      <td>25979</td>\n",
              "      <td>Saturn</td>\n",
              "      <td>L Series</td>\n",
              "      <td>L300 Sedan 4D</td>\n",
              "      <td>Sedan</td>\n",
              "      <td>6</td>\n",
              "      <td>3.0</td>\n",
              "      <td>4</td>\n",
              "      <td>1</td>\n",
              "      <td>1</td>\n",
              "      <td>0</td>\n",
              "    </tr>\n",
              "    <tr>\n",
              "      <th>803</th>\n",
              "      <td>13585.636802</td>\n",
              "      <td>35662</td>\n",
              "      <td>Saturn</td>\n",
              "      <td>L Series</td>\n",
              "      <td>L300 Sedan 4D</td>\n",
              "      <td>Sedan</td>\n",
              "      <td>6</td>\n",
              "      <td>3.0</td>\n",
              "      <td>4</td>\n",
              "      <td>1</td>\n",
              "      <td>0</td>\n",
              "      <td>0</td>\n",
              "    </tr>\n",
              "  </tbody>\n",
              "</table>\n",
              "<p>804 rows × 12 columns</p>\n",
              "</div>\n",
              "      <button class=\"colab-df-convert\" onclick=\"convertToInteractive('df-5124c542-a22b-4eec-8552-ff30f9fcafe4')\"\n",
              "              title=\"Convert this dataframe to an interactive table.\"\n",
              "              style=\"display:none;\">\n",
              "        \n",
              "  <svg xmlns=\"http://www.w3.org/2000/svg\" height=\"24px\"viewBox=\"0 0 24 24\"\n",
              "       width=\"24px\">\n",
              "    <path d=\"M0 0h24v24H0V0z\" fill=\"none\"/>\n",
              "    <path d=\"M18.56 5.44l.94 2.06.94-2.06 2.06-.94-2.06-.94-.94-2.06-.94 2.06-2.06.94zm-11 1L8.5 8.5l.94-2.06 2.06-.94-2.06-.94L8.5 2.5l-.94 2.06-2.06.94zm10 10l.94 2.06.94-2.06 2.06-.94-2.06-.94-.94-2.06-.94 2.06-2.06.94z\"/><path d=\"M17.41 7.96l-1.37-1.37c-.4-.4-.92-.59-1.43-.59-.52 0-1.04.2-1.43.59L10.3 9.45l-7.72 7.72c-.78.78-.78 2.05 0 2.83L4 21.41c.39.39.9.59 1.41.59.51 0 1.02-.2 1.41-.59l7.78-7.78 2.81-2.81c.8-.78.8-2.07 0-2.86zM5.41 20L4 18.59l7.72-7.72 1.47 1.35L5.41 20z\"/>\n",
              "  </svg>\n",
              "      </button>\n",
              "      \n",
              "  <style>\n",
              "    .colab-df-container {\n",
              "      display:flex;\n",
              "      flex-wrap:wrap;\n",
              "      gap: 12px;\n",
              "    }\n",
              "\n",
              "    .colab-df-convert {\n",
              "      background-color: #E8F0FE;\n",
              "      border: none;\n",
              "      border-radius: 50%;\n",
              "      cursor: pointer;\n",
              "      display: none;\n",
              "      fill: #1967D2;\n",
              "      height: 32px;\n",
              "      padding: 0 0 0 0;\n",
              "      width: 32px;\n",
              "    }\n",
              "\n",
              "    .colab-df-convert:hover {\n",
              "      background-color: #E2EBFA;\n",
              "      box-shadow: 0px 1px 2px rgba(60, 64, 67, 0.3), 0px 1px 3px 1px rgba(60, 64, 67, 0.15);\n",
              "      fill: #174EA6;\n",
              "    }\n",
              "\n",
              "    [theme=dark] .colab-df-convert {\n",
              "      background-color: #3B4455;\n",
              "      fill: #D2E3FC;\n",
              "    }\n",
              "\n",
              "    [theme=dark] .colab-df-convert:hover {\n",
              "      background-color: #434B5C;\n",
              "      box-shadow: 0px 1px 3px 1px rgba(0, 0, 0, 0.15);\n",
              "      filter: drop-shadow(0px 1px 2px rgba(0, 0, 0, 0.3));\n",
              "      fill: #FFFFFF;\n",
              "    }\n",
              "  </style>\n",
              "\n",
              "      <script>\n",
              "        const buttonEl =\n",
              "          document.querySelector('#df-5124c542-a22b-4eec-8552-ff30f9fcafe4 button.colab-df-convert');\n",
              "        buttonEl.style.display =\n",
              "          google.colab.kernel.accessAllowed ? 'block' : 'none';\n",
              "\n",
              "        async function convertToInteractive(key) {\n",
              "          const element = document.querySelector('#df-5124c542-a22b-4eec-8552-ff30f9fcafe4');\n",
              "          const dataTable =\n",
              "            await google.colab.kernel.invokeFunction('convertToInteractive',\n",
              "                                                     [key], {});\n",
              "          if (!dataTable) return;\n",
              "\n",
              "          const docLinkHtml = 'Like what you see? Visit the ' +\n",
              "            '<a target=\"_blank\" href=https://colab.research.google.com/notebooks/data_table.ipynb>data table notebook</a>'\n",
              "            + ' to learn more about interactive tables.';\n",
              "          element.innerHTML = '';\n",
              "          dataTable['output_type'] = 'display_data';\n",
              "          await google.colab.output.renderOutput(dataTable, element);\n",
              "          const docLink = document.createElement('div');\n",
              "          docLink.innerHTML = docLinkHtml;\n",
              "          element.appendChild(docLink);\n",
              "        }\n",
              "      </script>\n",
              "    </div>\n",
              "  </div>\n",
              "  "
            ]
          },
          "metadata": {},
          "execution_count": 137
        }
      ]
    },
    {
      "cell_type": "code",
      "source": [
        "df.isnull().sum()"
      ],
      "metadata": {
        "colab": {
          "base_uri": "https://localhost:8080/"
        },
        "id": "seHOa2-N9kyt",
        "outputId": "30b9c48c-3821-4ae3-8eec-1170407498ee"
      },
      "execution_count": 138,
      "outputs": [
        {
          "output_type": "execute_result",
          "data": {
            "text/plain": [
              "Price       0\n",
              "Mileage     0\n",
              "Make        0\n",
              "Model       0\n",
              "Trim        0\n",
              "Type        0\n",
              "Cylinder    0\n",
              "Liter       0\n",
              "Doors       0\n",
              "Cruise      0\n",
              "Sound       0\n",
              "Leather     0\n",
              "dtype: int64"
            ]
          },
          "metadata": {},
          "execution_count": 138
        }
      ]
    },
    {
      "cell_type": "code",
      "source": [
        "df.dtypes"
      ],
      "metadata": {
        "colab": {
          "base_uri": "https://localhost:8080/"
        },
        "id": "74_MplJq9szx",
        "outputId": "a465a25a-bf1d-4ffc-b600-65c60d4d5bcf"
      },
      "execution_count": 139,
      "outputs": [
        {
          "output_type": "execute_result",
          "data": {
            "text/plain": [
              "Price       float64\n",
              "Mileage       int64\n",
              "Make         object\n",
              "Model        object\n",
              "Trim         object\n",
              "Type         object\n",
              "Cylinder      int64\n",
              "Liter       float64\n",
              "Doors         int64\n",
              "Cruise        int64\n",
              "Sound         int64\n",
              "Leather       int64\n",
              "dtype: object"
            ]
          },
          "metadata": {},
          "execution_count": 139
        }
      ]
    },
    {
      "cell_type": "markdown",
      "source": [
        "USE MILEAGE AS FEATURE AND PRICE AS TARGET TO FIND LINEAR REGRESSSION MODEL"
      ],
      "metadata": {
        "id": "-o-96bu8907G"
      }
    },
    {
      "cell_type": "code",
      "source": [
        "import seaborn as sns\n",
        "sns.scatterplot(x= df[\"Mileage\"], y= df[\"Price\"])\n",
        "plt.show()\n",
        "df[[\"Mileage\", \"Price\"]].corr()\n"
      ],
      "metadata": {
        "colab": {
          "base_uri": "https://localhost:8080/",
          "height": 374
        },
        "id": "DVb663Uq-Dtn",
        "outputId": "6975d394-b66a-4ab2-b263-754e67bf0c90"
      },
      "execution_count": 140,
      "outputs": [
        {
          "output_type": "display_data",
          "data": {
            "text/plain": [
              "<Figure size 432x288 with 1 Axes>"
            ],
            "image/png": "[encoded data removed]"
          },
          "metadata": {
            "needs_background": "light"
          }
        },
        {
          "output_type": "execute_result",
          "data": {
            "text/plain": [
              "          Mileage     Price\n",
              "Mileage  1.000000 -0.143051\n",
              "Price   -0.143051  1.000000"
            ],
            "text/html": [
              "\n",
              "  <div id=\"df-9a059a15-d15f-4223-a017-03a4e749476d\">\n",
              "    <div class=\"colab-df-container\">\n",
              "      <div>\n",
              "<style scoped>\n",
              "    .dataframe tbody tr th:only-of-type {\n",
              "        vertical-align: middle;\n",
              "    }\n",
              "\n",
              "    .dataframe tbody tr th {\n",
              "        vertical-align: top;\n",
              "    }\n",
              "\n",
              "    .dataframe thead th {\n",
              "        text-align: right;\n",
              "    }\n",
              "</style>\n",
              "<table border=\"1\" class=\"dataframe\">\n",
              "  <thead>\n",
              "    <tr style=\"text-align: right;\">\n",
              "      <th></th>\n",
              "      <th>Mileage</th>\n",
              "      <th>Price</th>\n",
              "    </tr>\n",
              "  </thead>\n",
              "  <tbody>\n",
              "    <tr>\n",
              "      <th>Mileage</th>\n",
              "      <td>1.000000</td>\n",
              "      <td>-0.143051</td>\n",
              "    </tr>\n",
              "    <tr>\n",
              "      <th>Price</th>\n",
              "      <td>-0.143051</td>\n",
              "      <td>1.000000</td>\n",
              "    </tr>\n",
              "  </tbody>\n",
              "</table>\n",
              "</div>\n",
              "      <button class=\"colab-df-convert\" onclick=\"convertToInteractive('df-9a059a15-d15f-4223-a017-03a4e749476d')\"\n",
              "              title=\"Convert this dataframe to an interactive table.\"\n",
              "              style=\"display:none;\">\n",
              "        \n",
              "  <svg xmlns=\"http://www.w3.org/2000/svg\" height=\"24px\"viewBox=\"0 0 24 24\"\n",
              "       width=\"24px\">\n",
              "    <path d=\"M0 0h24v24H0V0z\" fill=\"none\"/>\n",
              "    <path d=\"M18.56 5.44l.94 2.06.94-2.06 2.06-.94-2.06-.94-.94-2.06-.94 2.06-2.06.94zm-11 1L8.5 8.5l.94-2.06 2.06-.94-2.06-.94L8.5 2.5l-.94 2.06-2.06.94zm10 10l.94 2.06.94-2.06 2.06-.94-2.06-.94-.94-2.06-.94 2.06-2.06.94z\"/><path d=\"M17.41 7.96l-1.37-1.37c-.4-.4-.92-.59-1.43-.59-.52 0-1.04.2-1.43.59L10.3 9.45l-7.72 7.72c-.78.78-.78 2.05 0 2.83L4 21.41c.39.39.9.59 1.41.59.51 0 1.02-.2 1.41-.59l7.78-7.78 2.81-2.81c.8-.78.8-2.07 0-2.86zM5.41 20L4 18.59l7.72-7.72 1.47 1.35L5.41 20z\"/>\n",
              "  </svg>\n",
              "      </button>\n",
              "      \n",
              "  <style>\n",
              "    .colab-df-container {\n",
              "      display:flex;\n",
              "      flex-wrap:wrap;\n",
              "      gap: 12px;\n",
              "    }\n",
              "\n",
              "    .colab-df-convert {\n",
              "      background-color: #E8F0FE;\n",
              "      border: none;\n",
              "      border-radius: 50%;\n",
              "      cursor: pointer;\n",
              "      display: none;\n",
              "      fill: #1967D2;\n",
              "      height: 32px;\n",
              "      padding: 0 0 0 0;\n",
              "      width: 32px;\n",
              "    }\n",
              "\n",
              "    .colab-df-convert:hover {\n",
              "      background-color: #E2EBFA;\n",
              "      box-shadow: 0px 1px 2px rgba(60, 64, 67, 0.3), 0px 1px 3px 1px rgba(60, 64, 67, 0.15);\n",
              "      fill: #174EA6;\n",
              "    }\n",
              "\n",
              "    [theme=dark] .colab-df-convert {\n",
              "      background-color: #3B4455;\n",
              "      fill: #D2E3FC;\n",
              "    }\n",
              "\n",
              "    [theme=dark] .colab-df-convert:hover {\n",
              "      background-color: #434B5C;\n",
              "      box-shadow: 0px 1px 3px 1px rgba(0, 0, 0, 0.15);\n",
              "      filter: drop-shadow(0px 1px 2px rgba(0, 0, 0, 0.3));\n",
              "      fill: #FFFFFF;\n",
              "    }\n",
              "  </style>\n",
              "\n",
              "      <script>\n",
              "        const buttonEl =\n",
              "          document.querySelector('#df-9a059a15-d15f-4223-a017-03a4e749476d button.colab-df-convert');\n",
              "        buttonEl.style.display =\n",
              "          google.colab.kernel.accessAllowed ? 'block' : 'none';\n",
              "\n",
              "        async function convertToInteractive(key) {\n",
              "          const element = document.querySelector('#df-9a059a15-d15f-4223-a017-03a4e749476d');\n",
              "          const dataTable =\n",
              "            await google.colab.kernel.invokeFunction('convertToInteractive',\n",
              "                                                     [key], {});\n",
              "          if (!dataTable) return;\n",
              "\n",
              "          const docLinkHtml = 'Like what you see? Visit the ' +\n",
              "            '<a target=\"_blank\" href=https://colab.research.google.com/notebooks/data_table.ipynb>data table notebook</a>'\n",
              "            + ' to learn more about interactive tables.';\n",
              "          element.innerHTML = '';\n",
              "          dataTable['output_type'] = 'display_data';\n",
              "          await google.colab.output.renderOutput(dataTable, element);\n",
              "          const docLink = document.createElement('div');\n",
              "          docLink.innerHTML = docLinkHtml;\n",
              "          element.appendChild(docLink);\n",
              "        }\n",
              "      </script>\n",
              "    </div>\n",
              "  </div>\n",
              "  "
            ]
          },
          "metadata": {},
          "execution_count": 140
        }
      ]
    },
    {
      "cell_type": "markdown",
      "source": [
        "No linear relationship between Price and mileage. Need of Transformation"
      ],
      "metadata": {
        "id": "kGIK7T03-ue-"
      }
    },
    {
      "cell_type": "code",
      "source": [
        "df['Transformed_Mileage']= np.log(df['Mileage'])\n",
        "sns.scatterplot(x= df['Transformed_Mileage'], y= df['Mileage'])\n",
        "plt.show()\n"
      ],
      "metadata": {
        "colab": {
          "base_uri": "https://localhost:8080/",
          "height": 280
        },
        "id": "1pvyQ_RD_Fj1",
        "outputId": "6cccf76f-4112-4a5b-fd3c-9d7342d1f405"
      },
      "execution_count": 141,
      "outputs": [
        {
          "output_type": "display_data",
          "data": {
            "text/plain": [
              "<Figure size 432x288 with 1 Axes>"
            ],
            "image/png": "[encoded data removed]"
          },
          "metadata": {
            "needs_background": "light"
          }
        }
      ]
    },
    {
      "cell_type": "code",
      "source": [
        "df[[\"Transformed_Mileage\", \"Price\"]].corr()"
      ],
      "metadata": {
        "colab": {
          "base_uri": "https://localhost:8080/",
          "height": 112
        },
        "id": "UR9FUFfYAMcW",
        "outputId": "8f8b01f5-8da1-48f2-fc03-b620261122fa"
      },
      "execution_count": 142,
      "outputs": [
        {
          "output_type": "execute_result",
          "data": {
            "text/plain": [
              "                     Transformed_Mileage     Price\n",
              "Transformed_Mileage             1.000000 -0.145424\n",
              "Price                          -0.145424  1.000000"
            ],
            "text/html": [
              "\n",
              "  <div id=\"df-83b26573-6c3d-48f6-a4bc-13c5f8ef5964\">\n",
              "    <div class=\"colab-df-container\">\n",
              "      <div>\n",
              "<style scoped>\n",
              "    .dataframe tbody tr th:only-of-type {\n",
              "        vertical-align: middle;\n",
              "    }\n",
              "\n",
              "    .dataframe tbody tr th {\n",
              "        vertical-align: top;\n",
              "    }\n",
              "\n",
              "    .dataframe thead th {\n",
              "        text-align: right;\n",
              "    }\n",
              "</style>\n",
              "<table border=\"1\" class=\"dataframe\">\n",
              "  <thead>\n",
              "    <tr style=\"text-align: right;\">\n",
              "      <th></th>\n",
              "      <th>Transformed_Mileage</th>\n",
              "      <th>Price</th>\n",
              "    </tr>\n",
              "  </thead>\n",
              "  <tbody>\n",
              "    <tr>\n",
              "      <th>Transformed_Mileage</th>\n",
              "      <td>1.000000</td>\n",
              "      <td>-0.145424</td>\n",
              "    </tr>\n",
              "    <tr>\n",
              "      <th>Price</th>\n",
              "      <td>-0.145424</td>\n",
              "      <td>1.000000</td>\n",
              "    </tr>\n",
              "  </tbody>\n",
              "</table>\n",
              "</div>\n",
              "      <button class=\"colab-df-convert\" onclick=\"convertToInteractive('df-83b26573-6c3d-48f6-a4bc-13c5f8ef5964')\"\n",
              "              title=\"Convert this dataframe to an interactive table.\"\n",
              "              style=\"display:none;\">\n",
              "        \n",
              "  <svg xmlns=\"http://www.w3.org/2000/svg\" height=\"24px\"viewBox=\"0 0 24 24\"\n",
              "       width=\"24px\">\n",
              "    <path d=\"M0 0h24v24H0V0z\" fill=\"none\"/>\n",
              "    <path d=\"M18.56 5.44l.94 2.06.94-2.06 2.06-.94-2.06-.94-.94-2.06-.94 2.06-2.06.94zm-11 1L8.5 8.5l.94-2.06 2.06-.94-2.06-.94L8.5 2.5l-.94 2.06-2.06.94zm10 10l.94 2.06.94-2.06 2.06-.94-2.06-.94-.94-2.06-.94 2.06-2.06.94z\"/><path d=\"M17.41 7.96l-1.37-1.37c-.4-.4-.92-.59-1.43-.59-.52 0-1.04.2-1.43.59L10.3 9.45l-7.72 7.72c-.78.78-.78 2.05 0 2.83L4 21.41c.39.39.9.59 1.41.59.51 0 1.02-.2 1.41-.59l7.78-7.78 2.81-2.81c.8-.78.8-2.07 0-2.86zM5.41 20L4 18.59l7.72-7.72 1.47 1.35L5.41 20z\"/>\n",
              "  </svg>\n",
              "      </button>\n",
              "      \n",
              "  <style>\n",
              "    .colab-df-container {\n",
              "      display:flex;\n",
              "      flex-wrap:wrap;\n",
              "      gap: 12px;\n",
              "    }\n",
              "\n",
              "    .colab-df-convert {\n",
              "      background-color: #E8F0FE;\n",
              "      border: none;\n",
              "      border-radius: 50%;\n",
              "      cursor: pointer;\n",
              "      display: none;\n",
              "      fill: #1967D2;\n",
              "      height: 32px;\n",
              "      padding: 0 0 0 0;\n",
              "      width: 32px;\n",
              "    }\n",
              "\n",
              "    .colab-df-convert:hover {\n",
              "      background-color: #E2EBFA;\n",
              "      box-shadow: 0px 1px 2px rgba(60, 64, 67, 0.3), 0px 1px 3px 1px rgba(60, 64, 67, 0.15);\n",
              "      fill: #174EA6;\n",
              "    }\n",
              "\n",
              "    [theme=dark] .colab-df-convert {\n",
              "      background-color: #3B4455;\n",
              "      fill: #D2E3FC;\n",
              "    }\n",
              "\n",
              "    [theme=dark] .colab-df-convert:hover {\n",
              "      background-color: #434B5C;\n",
              "      box-shadow: 0px 1px 3px 1px rgba(0, 0, 0, 0.15);\n",
              "      filter: drop-shadow(0px 1px 2px rgba(0, 0, 0, 0.3));\n",
              "      fill: #FFFFFF;\n",
              "    }\n",
              "  </style>\n",
              "\n",
              "      <script>\n",
              "        const buttonEl =\n",
              "          document.querySelector('#df-83b26573-6c3d-48f6-a4bc-13c5f8ef5964 button.colab-df-convert');\n",
              "        buttonEl.style.display =\n",
              "          google.colab.kernel.accessAllowed ? 'block' : 'none';\n",
              "\n",
              "        async function convertToInteractive(key) {\n",
              "          const element = document.querySelector('#df-83b26573-6c3d-48f6-a4bc-13c5f8ef5964');\n",
              "          const dataTable =\n",
              "            await google.colab.kernel.invokeFunction('convertToInteractive',\n",
              "                                                     [key], {});\n",
              "          if (!dataTable) return;\n",
              "\n",
              "          const docLinkHtml = 'Like what you see? Visit the ' +\n",
              "            '<a target=\"_blank\" href=https://colab.research.google.com/notebooks/data_table.ipynb>data table notebook</a>'\n",
              "            + ' to learn more about interactive tables.';\n",
              "          element.innerHTML = '';\n",
              "          dataTable['output_type'] = 'display_data';\n",
              "          await google.colab.output.renderOutput(dataTable, element);\n",
              "          const docLink = document.createElement('div');\n",
              "          docLink.innerHTML = docLinkHtml;\n",
              "          element.appendChild(docLink);\n",
              "        }\n",
              "      </script>\n",
              "    </div>\n",
              "  </div>\n",
              "  "
            ]
          },
          "metadata": {},
          "execution_count": 142
        }
      ]
    },
    {
      "cell_type": "markdown",
      "source": [
        "Even doing Transformation there is no linear realtionship between Mileage and Price"
      ],
      "metadata": {
        "id": "lVFU1ErjAqMT"
      }
    },
    {
      "cell_type": "code",
      "source": [
        "X = df[['Mileage']].values #array of features\n",
        "y = df['Price'].values #array of targets\n",
        "from sklearn.model_selection import train_test_split\n",
        "X_train, X_test, y_train, y_test = train_test_split(X, y, test_size=0.2, random_state=10)"
      ],
      "metadata": {
        "id": "MD-3H_Y6Apcs"
      },
      "execution_count": 143,
      "outputs": []
    },
    {
      "cell_type": "code",
      "source": [
        "from sklearn.preprocessing import StandardScaler ## standrard scalig \n",
        "scaler = StandardScaler() #initialise to a variable\n",
        "scaler.fit(X_train,y_train)\n",
        "X_train = scaler.transform(X_train) # fit (mean, sd) and then transform the training data\n",
        "X_test = scaler.transform(X_test) # transform the test data \n"
      ],
      "metadata": {
        "id": "9l1-YvZEBUpd"
      },
      "execution_count": 144,
      "outputs": []
    },
    {
      "cell_type": "code",
      "source": [
        "from sklearn.linear_model import LinearRegression\n",
        "regressor = LinearRegression()\n",
        "regressor.fit(X_train, y_train)"
      ],
      "metadata": {
        "colab": {
          "base_uri": "https://localhost:8080/"
        },
        "id": "s9N-flSsBhn6",
        "outputId": "e2dcb158-6795-4d7d-cbbe-965b7374230a"
      },
      "execution_count": 145,
      "outputs": [
        {
          "output_type": "execute_result",
          "data": {
            "text/plain": [
              "LinearRegression()"
            ]
          },
          "metadata": {},
          "execution_count": 145
        }
      ]
    },
    {
      "cell_type": "code",
      "source": [
        "print(regressor.intercept_) # c\n",
        "print(regressor.coef_) # m"
      ],
      "metadata": {
        "colab": {
          "base_uri": "https://localhost:8080/"
        },
        "id": "pHyymdl-BupR",
        "outputId": "87f3b825-69d3-484f-8604-8215c4d6a24a"
      },
      "execution_count": 146,
      "outputs": [
        {
          "output_type": "stream",
          "name": "stdout",
          "text": [
            "21315.85595301999\n",
            "[-1283.29632169]\n"
          ]
        }
      ]
    },
    {
      "cell_type": "code",
      "source": [
        "y_pred = regressor.predict(X_test) # given the features of the test dataset, it will give the final predictions\n"
      ],
      "metadata": {
        "id": "PWnkaXvfB7AN"
      },
      "execution_count": 147,
      "outputs": []
    },
    {
      "cell_type": "code",
      "source": [
        "df1 = pd.DataFrame({'Actual': y_test, 'Predicted': y_pred})\n",
        "df1"
      ],
      "metadata": {
        "colab": {
          "base_uri": "https://localhost:8080/",
          "height": 423
        },
        "id": "e5uIf8GUCM6E",
        "outputId": "98a306e6-a3dc-4b47-ad42-56595430129a"
      },
      "execution_count": 148,
      "outputs": [
        {
          "output_type": "execute_result",
          "data": {
            "text/plain": [
              "           Actual     Predicted\n",
              "0    11045.108844  20611.854498\n",
              "1    12045.920705  21463.587596\n",
              "2    14703.136868  20805.187876\n",
              "3    15053.933735  23734.666792\n",
              "4    12553.071428  19314.184557\n",
              "..            ...           ...\n",
              "156  44084.914212  21113.768645\n",
              "157  10106.016431  22237.548306\n",
              "158  12828.030977  21472.211551\n",
              "159  57154.443437  19876.152787\n",
              "160  15138.400824  19374.081841\n",
              "\n",
              "[161 rows x 2 columns]"
            ],
            "text/html": [
              "\n",
              "  <div id=\"df-2bcdbc7a-f107-4d8e-8492-72019d921abf\">\n",
              "    <div class=\"colab-df-container\">\n",
              "      <div>\n",
              "<style scoped>\n",
              "    .dataframe tbody tr th:only-of-type {\n",
              "        vertical-align: middle;\n",
              "    }\n",
              "\n",
              "    .dataframe tbody tr th {\n",
              "        vertical-align: top;\n",
              "    }\n",
              "\n",
              "    .dataframe thead th {\n",
              "        text-align: right;\n",
              "    }\n",
              "</style>\n",
              "<table border=\"1\" class=\"dataframe\">\n",
              "  <thead>\n",
              "    <tr style=\"text-align: right;\">\n",
              "      <th></th>\n",
              "      <th>Actual</th>\n",
              "      <th>Predicted</th>\n",
              "    </tr>\n",
              "  </thead>\n",
              "  <tbody>\n",
              "    <tr>\n",
              "      <th>0</th>\n",
              "      <td>11045.108844</td>\n",
              "      <td>20611.854498</td>\n",
              "    </tr>\n",
              "    <tr>\n",
              "      <th>1</th>\n",
              "      <td>12045.920705</td>\n",
              "      <td>21463.587596</td>\n",
              "    </tr>\n",
              "    <tr>\n",
              "      <th>2</th>\n",
              "      <td>14703.136868</td>\n",
              "      <td>20805.187876</td>\n",
              "    </tr>\n",
              "    <tr>\n",
              "      <th>3</th>\n",
              "      <td>15053.933735</td>\n",
              "      <td>23734.666792</td>\n",
              "    </tr>\n",
              "    <tr>\n",
              "      <th>4</th>\n",
              "      <td>12553.071428</td>\n",
              "      <td>19314.184557</td>\n",
              "    </tr>\n",
              "    <tr>\n",
              "      <th>...</th>\n",
              "      <td>...</td>\n",
              "      <td>...</td>\n",
              "    </tr>\n",
              "    <tr>\n",
              "      <th>156</th>\n",
              "      <td>44084.914212</td>\n",
              "      <td>21113.768645</td>\n",
              "    </tr>\n",
              "    <tr>\n",
              "      <th>157</th>\n",
              "      <td>10106.016431</td>\n",
              "      <td>22237.548306</td>\n",
              "    </tr>\n",
              "    <tr>\n",
              "      <th>158</th>\n",
              "      <td>12828.030977</td>\n",
              "      <td>21472.211551</td>\n",
              "    </tr>\n",
              "    <tr>\n",
              "      <th>159</th>\n",
              "      <td>57154.443437</td>\n",
              "      <td>19876.152787</td>\n",
              "    </tr>\n",
              "    <tr>\n",
              "      <th>160</th>\n",
              "      <td>15138.400824</td>\n",
              "      <td>19374.081841</td>\n",
              "    </tr>\n",
              "  </tbody>\n",
              "</table>\n",
              "<p>161 rows × 2 columns</p>\n",
              "</div>\n",
              "      <button class=\"colab-df-convert\" onclick=\"convertToInteractive('df-2bcdbc7a-f107-4d8e-8492-72019d921abf')\"\n",
              "              title=\"Convert this dataframe to an interactive table.\"\n",
              "              style=\"display:none;\">\n",
              "        \n",
              "  <svg xmlns=\"http://www.w3.org/2000/svg\" height=\"24px\"viewBox=\"0 0 24 24\"\n",
              "       width=\"24px\">\n",
              "    <path d=\"M0 0h24v24H0V0z\" fill=\"none\"/>\n",
              "    <path d=\"M18.56 5.44l.94 2.06.94-2.06 2.06-.94-2.06-.94-.94-2.06-.94 2.06-2.06.94zm-11 1L8.5 8.5l.94-2.06 2.06-.94-2.06-.94L8.5 2.5l-.94 2.06-2.06.94zm10 10l.94 2.06.94-2.06 2.06-.94-2.06-.94-.94-2.06-.94 2.06-2.06.94z\"/><path d=\"M17.41 7.96l-1.37-1.37c-.4-.4-.92-.59-1.43-.59-.52 0-1.04.2-1.43.59L10.3 9.45l-7.72 7.72c-.78.78-.78 2.05 0 2.83L4 21.41c.39.39.9.59 1.41.59.51 0 1.02-.2 1.41-.59l7.78-7.78 2.81-2.81c.8-.78.8-2.07 0-2.86zM5.41 20L4 18.59l7.72-7.72 1.47 1.35L5.41 20z\"/>\n",
              "  </svg>\n",
              "      </button>\n",
              "      \n",
              "  <style>\n",
              "    .colab-df-container {\n",
              "      display:flex;\n",
              "      flex-wrap:wrap;\n",
              "      gap: 12px;\n",
              "    }\n",
              "\n",
              "    .colab-df-convert {\n",
              "      background-color: #E8F0FE;\n",
              "      border: none;\n",
              "      border-radius: 50%;\n",
              "      cursor: pointer;\n",
              "      display: none;\n",
              "      fill: #1967D2;\n",
              "      height: 32px;\n",
              "      padding: 0 0 0 0;\n",
              "      width: 32px;\n",
              "    }\n",
              "\n",
              "    .colab-df-convert:hover {\n",
              "      background-color: #E2EBFA;\n",
              "      box-shadow: 0px 1px 2px rgba(60, 64, 67, 0.3), 0px 1px 3px 1px rgba(60, 64, 67, 0.15);\n",
              "      fill: #174EA6;\n",
              "    }\n",
              "\n",
              "    [theme=dark] .colab-df-convert {\n",
              "      background-color: #3B4455;\n",
              "      fill: #D2E3FC;\n",
              "    }\n",
              "\n",
              "    [theme=dark] .colab-df-convert:hover {\n",
              "      background-color: #434B5C;\n",
              "      box-shadow: 0px 1px 3px 1px rgba(0, 0, 0, 0.15);\n",
              "      filter: drop-shadow(0px 1px 2px rgba(0, 0, 0, 0.3));\n",
              "      fill: #FFFFFF;\n",
              "    }\n",
              "  </style>\n",
              "\n",
              "      <script>\n",
              "        const buttonEl =\n",
              "          document.querySelector('#df-2bcdbc7a-f107-4d8e-8492-72019d921abf button.colab-df-convert');\n",
              "        buttonEl.style.display =\n",
              "          google.colab.kernel.accessAllowed ? 'block' : 'none';\n",
              "\n",
              "        async function convertToInteractive(key) {\n",
              "          const element = document.querySelector('#df-2bcdbc7a-f107-4d8e-8492-72019d921abf');\n",
              "          const dataTable =\n",
              "            await google.colab.kernel.invokeFunction('convertToInteractive',\n",
              "                                                     [key], {});\n",
              "          if (!dataTable) return;\n",
              "\n",
              "          const docLinkHtml = 'Like what you see? Visit the ' +\n",
              "            '<a target=\"_blank\" href=https://colab.research.google.com/notebooks/data_table.ipynb>data table notebook</a>'\n",
              "            + ' to learn more about interactive tables.';\n",
              "          element.innerHTML = '';\n",
              "          dataTable['output_type'] = 'display_data';\n",
              "          await google.colab.output.renderOutput(dataTable, element);\n",
              "          const docLink = document.createElement('div');\n",
              "          docLink.innerHTML = docLinkHtml;\n",
              "          element.appendChild(docLink);\n",
              "        }\n",
              "      </script>\n",
              "    </div>\n",
              "  </div>\n",
              "  "
            ]
          },
          "metadata": {},
          "execution_count": 148
        }
      ]
    },
    {
      "cell_type": "code",
      "source": [
        "from sklearn import metrics\n",
        "print('R2- SCORE:', metrics.r2_score(y_test,y_pred))"
      ],
      "metadata": {
        "colab": {
          "base_uri": "https://localhost:8080/"
        },
        "id": "bnCuVgAWCYyg",
        "outputId": "ee020ea4-f18b-4907-c2ec-71a44a341cbb"
      },
      "execution_count": 149,
      "outputs": [
        {
          "output_type": "stream",
          "name": "stdout",
          "text": [
            "R2- SCORE: 0.02872584628111674\n"
          ]
        }
      ]
    },
    {
      "cell_type": "markdown",
      "source": [
        "Very poor R2-Value"
      ],
      "metadata": {
        "id": "8FDNuX3MCiEt"
      }
    },
    {
      "cell_type": "code",
      "source": [
        "plt.scatter(X_test, y_test, color = \"red\")\n",
        "plt.plot(X_test, y_pred, color = \"green\")\n",
        "plt.title(\"Mileage vs price\")\n",
        "plt.xlabel(\"Mileage\")\n",
        "plt.ylabel(\"price\")\n",
        "plt.show()"
      ],
      "metadata": {
        "colab": {
          "base_uri": "https://localhost:8080/",
          "height": 295
        },
        "id": "S5RX661DCkqY",
        "outputId": "c4ed413c-b619-45b9-9c27-66c15b08b96e"
      },
      "execution_count": 150,
      "outputs": [
        {
          "output_type": "display_data",
          "data": {
            "text/plain": [
              "<Figure size 432x288 with 1 Axes>"
            ],
            "image/png": "[encoded data removed]"
          },
          "metadata": {
            "needs_background": "light"
          }
        }
      ]
    },
    {
      "cell_type": "code",
      "source": [
        "regressor.score(X_test,y_test)"
      ],
      "metadata": {
        "colab": {
          "base_uri": "https://localhost:8080/"
        },
        "id": "mTq1OhYgCxZB",
        "outputId": "0cd33439-91b2-4170-bbc4-393856849daf"
      },
      "execution_count": 151,
      "outputs": [
        {
          "output_type": "execute_result",
          "data": {
            "text/plain": [
              "0.02872584628111674"
            ]
          },
          "metadata": {},
          "execution_count": 151
        }
      ]
    },
    {
      "cell_type": "code",
      "source": [
        "from sklearn.metrics import r2_score\n",
        "from sklearn.tree import DecisionTreeRegressor\n",
        "from sklearn.model_selection import cross_val_score\n",
        "\n",
        "for depth in [1,2,3,4,5,6,7,8,9,10,20,40,60]:\n",
        "  dt= DecisionTreeRegressor(max_depth= depth)\n",
        "  dt.fit(X_train, y_train)\n",
        "  accuracy= r2_score(y_test,dt.predict(X_test))\n",
        "  dt= DecisionTreeRegressor(max_depth= depth)\n",
        "  val= cross_val_score(dt, X, y, cv=10)\n",
        "  print(depth, accuracy, np.mean(val))"
      ],
      "metadata": {
        "colab": {
          "base_uri": "https://localhost:8080/"
        },
        "id": "s-5JaoVaEKtW",
        "outputId": "8d949809-8f7d-45ba-ed8e-1dca7a07b687"
      },
      "execution_count": 152,
      "outputs": [
        {
          "output_type": "stream",
          "name": "stdout",
          "text": [
            "1 0.03157269507626381 -16.14871891815148\n",
            "2 0.018622824831211027 -15.90773985961197\n",
            "3 0.02708402518719455 -15.951965978576553\n",
            "4 0.02528311257469229 -16.28632163410032\n",
            "5 -0.019092229357378976 -16.37072433451413\n",
            "6 0.014335548854325975 -16.487382170735795\n",
            "7 -0.03535164342015462 -16.16697488310952\n",
            "8 -0.03884560503235801 -16.289226865505274\n",
            "9 -0.08316250100687039 -16.851299155322064\n",
            "10 -0.06226882059389638 -16.34824215729936\n",
            "20 -0.487363607756206 -23.952943643808823\n",
            "40 -0.5321585764147219 -23.898688852589267\n",
            "60 -0.5321585764147219 -23.898688852589267\n"
          ]
        }
      ]
    },
    {
      "cell_type": "markdown",
      "source": [
        "Task 2\n",
        "\n",
        "Use mileage, cylinders, liters, doors, cruise, sound, and leather to find the linear regression equation."
      ],
      "metadata": {
        "id": "r45ntPNjD2qU"
      }
    },
    {
      "cell_type": "code",
      "source": [
        "df"
      ],
      "metadata": {
        "colab": {
          "base_uri": "https://localhost:8080/",
          "height": 423
        },
        "id": "TqzSQOLZD4FK",
        "outputId": "fcbe7564-2922-412e-a68a-72459fd477a2"
      },
      "execution_count": 153,
      "outputs": [
        {
          "output_type": "execute_result",
          "data": {
            "text/plain": [
              "            Price  Mileage    Make     Model           Trim   Type  Cylinder  \\\n",
              "0    17314.103129     8221   Buick   Century       Sedan 4D  Sedan         6   \n",
              "1    17542.036083     9135   Buick   Century       Sedan 4D  Sedan         6   \n",
              "2    16218.847862    13196   Buick   Century       Sedan 4D  Sedan         6   \n",
              "3    16336.913140    16342   Buick   Century       Sedan 4D  Sedan         6   \n",
              "4    16339.170324    19832   Buick   Century       Sedan 4D  Sedan         6   \n",
              "..            ...      ...     ...       ...            ...    ...       ...   \n",
              "799  16507.070267    16229  Saturn  L Series  L300 Sedan 4D  Sedan         6   \n",
              "800  16175.957604    19095  Saturn  L Series  L300 Sedan 4D  Sedan         6   \n",
              "801  15731.132897    20484  Saturn  L Series  L300 Sedan 4D  Sedan         6   \n",
              "802  15118.893228    25979  Saturn  L Series  L300 Sedan 4D  Sedan         6   \n",
              "803  13585.636802    35662  Saturn  L Series  L300 Sedan 4D  Sedan         6   \n",
              "\n",
              "     Liter  Doors  Cruise  Sound  Leather  Transformed_Mileage  \n",
              "0      3.1      4       1      1        1             9.014447  \n",
              "1      3.1      4       1      1        0             9.119868  \n",
              "2      3.1      4       1      1        0             9.487669  \n",
              "3      3.1      4       1      0        0             9.701494  \n",
              "4      3.1      4       1      0        1             9.895052  \n",
              "..     ...    ...     ...    ...      ...                  ...  \n",
              "799    3.0      4       1      0        0             9.694555  \n",
              "800    3.0      4       1      1        0             9.857182  \n",
              "801    3.0      4       1      1        0             9.927399  \n",
              "802    3.0      4       1      1        0            10.165044  \n",
              "803    3.0      4       1      0        0            10.481841  \n",
              "\n",
              "[804 rows x 13 columns]"
            ],
            "text/html": [
              "\n",
              "  <div id=\"df-663d4080-6742-4ecc-9507-b367749f1513\">\n",
              "    <div class=\"colab-df-container\">\n",
              "      <div>\n",
              "<style scoped>\n",
              "    .dataframe tbody tr th:only-of-type {\n",
              "        vertical-align: middle;\n",
              "    }\n",
              "\n",
              "    .dataframe tbody tr th {\n",
              "        vertical-align: top;\n",
              "    }\n",
              "\n",
              "    .dataframe thead th {\n",
              "        text-align: right;\n",
              "    }\n",
              "</style>\n",
              "<table border=\"1\" class=\"dataframe\">\n",
              "  <thead>\n",
              "    <tr style=\"text-align: right;\">\n",
              "      <th></th>\n",
              "      <th>Price</th>\n",
              "      <th>Mileage</th>\n",
              "      <th>Make</th>\n",
              "      <th>Model</th>\n",
              "      <th>Trim</th>\n",
              "      <th>Type</th>\n",
              "      <th>Cylinder</th>\n",
              "      <th>Liter</th>\n",
              "      <th>Doors</th>\n",
              "      <th>Cruise</th>\n",
              "      <th>Sound</th>\n",
              "      <th>Leather</th>\n",
              "      <th>Transformed_Mileage</th>\n",
              "    </tr>\n",
              "  </thead>\n",
              "  <tbody>\n",
              "    <tr>\n",
              "      <th>0</th>\n",
              "      <td>17314.103129</td>\n",
              "      <td>8221</td>\n",
              "      <td>Buick</td>\n",
              "      <td>Century</td>\n",
              "      <td>Sedan 4D</td>\n",
              "      <td>Sedan</td>\n",
              "      <td>6</td>\n",
              "      <td>3.1</td>\n",
              "      <td>4</td>\n",
              "      <td>1</td>\n",
              "      <td>1</td>\n",
              "      <td>1</td>\n",
              "      <td>9.014447</td>\n",
              "    </tr>\n",
              "    <tr>\n",
              "      <th>1</th>\n",
              "      <td>17542.036083</td>\n",
              "      <td>9135</td>\n",
              "      <td>Buick</td>\n",
              "      <td>Century</td>\n",
              "      <td>Sedan 4D</td>\n",
              "      <td>Sedan</td>\n",
              "      <td>6</td>\n",
              "      <td>3.1</td>\n",
              "      <td>4</td>\n",
              "      <td>1</td>\n",
              "      <td>1</td>\n",
              "      <td>0</td>\n",
              "      <td>9.119868</td>\n",
              "    </tr>\n",
              "    <tr>\n",
              "      <th>2</th>\n",
              "      <td>16218.847862</td>\n",
              "      <td>13196</td>\n",
              "      <td>Buick</td>\n",
              "      <td>Century</td>\n",
              "      <td>Sedan 4D</td>\n",
              "      <td>Sedan</td>\n",
              "      <td>6</td>\n",
              "      <td>3.1</td>\n",
              "      <td>4</td>\n",
              "      <td>1</td>\n",
              "      <td>1</td>\n",
              "      <td>0</td>\n",
              "      <td>9.487669</td>\n",
              "    </tr>\n",
              "    <tr>\n",
              "      <th>3</th>\n",
              "      <td>16336.913140</td>\n",
              "      <td>16342</td>\n",
              "      <td>Buick</td>\n",
              "      <td>Century</td>\n",
              "      <td>Sedan 4D</td>\n",
              "      <td>Sedan</td>\n",
              "      <td>6</td>\n",
              "      <td>3.1</td>\n",
              "      <td>4</td>\n",
              "      <td>1</td>\n",
              "      <td>0</td>\n",
              "      <td>0</td>\n",
              "      <td>9.701494</td>\n",
              "    </tr>\n",
              "    <tr>\n",
              "      <th>4</th>\n",
              "      <td>16339.170324</td>\n",
              "      <td>19832</td>\n",
              "      <td>Buick</td>\n",
              "      <td>Century</td>\n",
              "      <td>Sedan 4D</td>\n",
              "      <td>Sedan</td>\n",
              "      <td>6</td>\n",
              "      <td>3.1</td>\n",
              "      <td>4</td>\n",
              "      <td>1</td>\n",
              "      <td>0</td>\n",
              "      <td>1</td>\n",
              "      <td>9.895052</td>\n",
              "    </tr>\n",
              "    <tr>\n",
              "      <th>...</th>\n",
              "      <td>...</td>\n",
              "      <td>...</td>\n",
              "      <td>...</td>\n",
              "      <td>...</td>\n",
              "      <td>...</td>\n",
              "      <td>...</td>\n",
              "      <td>...</td>\n",
              "      <td>...</td>\n",
              "      <td>...</td>\n",
              "      <td>...</td>\n",
              "      <td>...</td>\n",
              "      <td>...</td>\n",
              "      <td>...</td>\n",
              "    </tr>\n",
              "    <tr>\n",
              "      <th>799</th>\n",
              "      <td>16507.070267</td>\n",
              "      <td>16229</td>\n",
              "      <td>Saturn</td>\n",
              "      <td>L Series</td>\n",
              "      <td>L300 Sedan 4D</td>\n",
              "      <td>Sedan</td>\n",
              "      <td>6</td>\n",
              "      <td>3.0</td>\n",
              "      <td>4</td>\n",
              "      <td>1</td>\n",
              "      <td>0</td>\n",
              "      <td>0</td>\n",
              "      <td>9.694555</td>\n",
              "    </tr>\n",
              "    <tr>\n",
              "      <th>800</th>\n",
              "      <td>16175.957604</td>\n",
              "      <td>19095</td>\n",
              "      <td>Saturn</td>\n",
              "      <td>L Series</td>\n",
              "      <td>L300 Sedan 4D</td>\n",
              "      <td>Sedan</td>\n",
              "      <td>6</td>\n",
              "      <td>3.0</td>\n",
              "      <td>4</td>\n",
              "      <td>1</td>\n",
              "      <td>1</td>\n",
              "      <td>0</td>\n",
              "      <td>9.857182</td>\n",
              "    </tr>\n",
              "    <tr>\n",
              "      <th>801</th>\n",
              "      <td>15731.132897</td>\n",
              "      <td>20484</td>\n",
              "      <td>Saturn</td>\n",
              "      <td>L Series</td>\n",
              "      <td>L300 Sedan 4D</td>\n",
              "      <td>Sedan</td>\n",
              "      <td>6</td>\n",
              "      <td>3.0</td>\n",
              "      <td>4</td>\n",
              "      <td>1</td>\n",
              "      <td>1</td>\n",
              "      <td>0</td>\n",
              "      <td>9.927399</td>\n",
              "    </tr>\n",
              "    <tr>\n",
              "      <th>802</th>\n",
              "      <td>15118.893228</td>\n",
              "      <td>25979</td>\n",
              "      <td>Saturn</td>\n",
              "      <td>L Series</td>\n",
              "      <td>L300 Sedan 4D</td>\n",
              "      <td>Sedan</td>\n",
              "      <td>6</td>\n",
              "      <td>3.0</td>\n",
              "      <td>4</td>\n",
              "      <td>1</td>\n",
              "      <td>1</td>\n",
              "      <td>0</td>\n",
              "      <td>10.165044</td>\n",
              "    </tr>\n",
              "    <tr>\n",
              "      <th>803</th>\n",
              "      <td>13585.636802</td>\n",
              "      <td>35662</td>\n",
              "      <td>Saturn</td>\n",
              "      <td>L Series</td>\n",
              "      <td>L300 Sedan 4D</td>\n",
              "      <td>Sedan</td>\n",
              "      <td>6</td>\n",
              "      <td>3.0</td>\n",
              "      <td>4</td>\n",
              "      <td>1</td>\n",
              "      <td>0</td>\n",
              "      <td>0</td>\n",
              "      <td>10.481841</td>\n",
              "    </tr>\n",
              "  </tbody>\n",
              "</table>\n",
              "<p>804 rows × 13 columns</p>\n",
              "</div>\n",
              "      <button class=\"colab-df-convert\" onclick=\"convertToInteractive('df-663d4080-6742-4ecc-9507-b367749f1513')\"\n",
              "              title=\"Convert this dataframe to an interactive table.\"\n",
              "              style=\"display:none;\">\n",
              "        \n",
              "  <svg xmlns=\"http://www.w3.org/2000/svg\" height=\"24px\"viewBox=\"0 0 24 24\"\n",
              "       width=\"24px\">\n",
              "    <path d=\"M0 0h24v24H0V0z\" fill=\"none\"/>\n",
              "    <path d=\"M18.56 5.44l.94 2.06.94-2.06 2.06-.94-2.06-.94-.94-2.06-.94 2.06-2.06.94zm-11 1L8.5 8.5l.94-2.06 2.06-.94-2.06-.94L8.5 2.5l-.94 2.06-2.06.94zm10 10l.94 2.06.94-2.06 2.06-.94-2.06-.94-.94-2.06-.94 2.06-2.06.94z\"/><path d=\"M17.41 7.96l-1.37-1.37c-.4-.4-.92-.59-1.43-.59-.52 0-1.04.2-1.43.59L10.3 9.45l-7.72 7.72c-.78.78-.78 2.05 0 2.83L4 21.41c.39.39.9.59 1.41.59.51 0 1.02-.2 1.41-.59l7.78-7.78 2.81-2.81c.8-.78.8-2.07 0-2.86zM5.41 20L4 18.59l7.72-7.72 1.47 1.35L5.41 20z\"/>\n",
              "  </svg>\n",
              "      </button>\n",
              "      \n",
              "  <style>\n",
              "    .colab-df-container {\n",
              "      display:flex;\n",
              "      flex-wrap:wrap;\n",
              "      gap: 12px;\n",
              "    }\n",
              "\n",
              "    .colab-df-convert {\n",
              "      background-color: #E8F0FE;\n",
              "      border: none;\n",
              "      border-radius: 50%;\n",
              "      cursor: pointer;\n",
              "      display: none;\n",
              "      fill: #1967D2;\n",
              "      height: 32px;\n",
              "      padding: 0 0 0 0;\n",
              "      width: 32px;\n",
              "    }\n",
              "\n",
              "    .colab-df-convert:hover {\n",
              "      background-color: #E2EBFA;\n",
              "      box-shadow: 0px 1px 2px rgba(60, 64, 67, 0.3), 0px 1px 3px 1px rgba(60, 64, 67, 0.15);\n",
              "      fill: #174EA6;\n",
              "    }\n",
              "\n",
              "    [theme=dark] .colab-df-convert {\n",
              "      background-color: #3B4455;\n",
              "      fill: #D2E3FC;\n",
              "    }\n",
              "\n",
              "    [theme=dark] .colab-df-convert:hover {\n",
              "      background-color: #434B5C;\n",
              "      box-shadow: 0px 1px 3px 1px rgba(0, 0, 0, 0.15);\n",
              "      filter: drop-shadow(0px 1px 2px rgba(0, 0, 0, 0.3));\n",
              "      fill: #FFFFFF;\n",
              "    }\n",
              "  </style>\n",
              "\n",
              "      <script>\n",
              "        const buttonEl =\n",
              "          document.querySelector('#df-663d4080-6742-4ecc-9507-b367749f1513 button.colab-df-convert');\n",
              "        buttonEl.style.display =\n",
              "          google.colab.kernel.accessAllowed ? 'block' : 'none';\n",
              "\n",
              "        async function convertToInteractive(key) {\n",
              "          const element = document.querySelector('#df-663d4080-6742-4ecc-9507-b367749f1513');\n",
              "          const dataTable =\n",
              "            await google.colab.kernel.invokeFunction('convertToInteractive',\n",
              "                                                     [key], {});\n",
              "          if (!dataTable) return;\n",
              "\n",
              "          const docLinkHtml = 'Like what you see? Visit the ' +\n",
              "            '<a target=\"_blank\" href=https://colab.research.google.com/notebooks/data_table.ipynb>data table notebook</a>'\n",
              "            + ' to learn more about interactive tables.';\n",
              "          element.innerHTML = '';\n",
              "          dataTable['output_type'] = 'display_data';\n",
              "          await google.colab.output.renderOutput(dataTable, element);\n",
              "          const docLink = document.createElement('div');\n",
              "          docLink.innerHTML = docLinkHtml;\n",
              "          element.appendChild(docLink);\n",
              "        }\n",
              "      </script>\n",
              "    </div>\n",
              "  </div>\n",
              "  "
            ]
          },
          "metadata": {},
          "execution_count": 153
        }
      ]
    },
    {
      "cell_type": "code",
      "source": [
        "sns.scatterplot(x=df['Cylinder'], y=df['Price'])\n",
        "plt.show()\n",
        "df[['Cylinder','Price']].corr()"
      ],
      "metadata": {
        "colab": {
          "base_uri": "https://localhost:8080/",
          "height": 374
        },
        "id": "GyxK6jkmEz55",
        "outputId": "78238e8f-d1ec-4657-a79b-69d6f345e70f"
      },
      "execution_count": 154,
      "outputs": [
        {
          "output_type": "display_data",
          "data": {
            "text/plain": [
              "<Figure size 432x288 with 1 Axes>"
            ],
            "image/png": "[encoded data removed]"
          },
          "metadata": {
            "needs_background": "light"
          }
        },
        {
          "output_type": "execute_result",
          "data": {
            "text/plain": [
              "          Cylinder     Price\n",
              "Cylinder  1.000000  0.569086\n",
              "Price     0.569086  1.000000"
            ],
            "text/html": [
              "\n",
              "  <div id=\"df-f05a9e72-b69f-4456-8c1f-a716d3e0c489\">\n",
              "    <div class=\"colab-df-container\">\n",
              "      <div>\n",
              "<style scoped>\n",
              "    .dataframe tbody tr th:only-of-type {\n",
              "        vertical-align: middle;\n",
              "    }\n",
              "\n",
              "    .dataframe tbody tr th {\n",
              "        vertical-align: top;\n",
              "    }\n",
              "\n",
              "    .dataframe thead th {\n",
              "        text-align: right;\n",
              "    }\n",
              "</style>\n",
              "<table border=\"1\" class=\"dataframe\">\n",
              "  <thead>\n",
              "    <tr style=\"text-align: right;\">\n",
              "      <th></th>\n",
              "      <th>Cylinder</th>\n",
              "      <th>Price</th>\n",
              "    </tr>\n",
              "  </thead>\n",
              "  <tbody>\n",
              "    <tr>\n",
              "      <th>Cylinder</th>\n",
              "      <td>1.000000</td>\n",
              "      <td>0.569086</td>\n",
              "    </tr>\n",
              "    <tr>\n",
              "      <th>Price</th>\n",
              "      <td>0.569086</td>\n",
              "      <td>1.000000</td>\n",
              "    </tr>\n",
              "  </tbody>\n",
              "</table>\n",
              "</div>\n",
              "      <button class=\"colab-df-convert\" onclick=\"convertToInteractive('df-f05a9e72-b69f-4456-8c1f-a716d3e0c489')\"\n",
              "              title=\"Convert this dataframe to an interactive table.\"\n",
              "              style=\"display:none;\">\n",
              "        \n",
              "  <svg xmlns=\"http://www.w3.org/2000/svg\" height=\"24px\"viewBox=\"0 0 24 24\"\n",
              "       width=\"24px\">\n",
              "    <path d=\"M0 0h24v24H0V0z\" fill=\"none\"/>\n",
              "    <path d=\"M18.56 5.44l.94 2.06.94-2.06 2.06-.94-2.06-.94-.94-2.06-.94 2.06-2.06.94zm-11 1L8.5 8.5l.94-2.06 2.06-.94-2.06-.94L8.5 2.5l-.94 2.06-2.06.94zm10 10l.94 2.06.94-2.06 2.06-.94-2.06-.94-.94-2.06-.94 2.06-2.06.94z\"/><path d=\"M17.41 7.96l-1.37-1.37c-.4-.4-.92-.59-1.43-.59-.52 0-1.04.2-1.43.59L10.3 9.45l-7.72 7.72c-.78.78-.78 2.05 0 2.83L4 21.41c.39.39.9.59 1.41.59.51 0 1.02-.2 1.41-.59l7.78-7.78 2.81-2.81c.8-.78.8-2.07 0-2.86zM5.41 20L4 18.59l7.72-7.72 1.47 1.35L5.41 20z\"/>\n",
              "  </svg>\n",
              "      </button>\n",
              "      \n",
              "  <style>\n",
              "    .colab-df-container {\n",
              "      display:flex;\n",
              "      flex-wrap:wrap;\n",
              "      gap: 12px;\n",
              "    }\n",
              "\n",
              "    .colab-df-convert {\n",
              "      background-color: #E8F0FE;\n",
              "      border: none;\n",
              "      border-radius: 50%;\n",
              "      cursor: pointer;\n",
              "      display: none;\n",
              "      fill: #1967D2;\n",
              "      height: 32px;\n",
              "      padding: 0 0 0 0;\n",
              "      width: 32px;\n",
              "    }\n",
              "\n",
              "    .colab-df-convert:hover {\n",
              "      background-color: #E2EBFA;\n",
              "      box-shadow: 0px 1px 2px rgba(60, 64, 67, 0.3), 0px 1px 3px 1px rgba(60, 64, 67, 0.15);\n",
              "      fill: #174EA6;\n",
              "    }\n",
              "\n",
              "    [theme=dark] .colab-df-convert {\n",
              "      background-color: #3B4455;\n",
              "      fill: #D2E3FC;\n",
              "    }\n",
              "\n",
              "    [theme=dark] .colab-df-convert:hover {\n",
              "      background-color: #434B5C;\n",
              "      box-shadow: 0px 1px 3px 1px rgba(0, 0, 0, 0.15);\n",
              "      filter: drop-shadow(0px 1px 2px rgba(0, 0, 0, 0.3));\n",
              "      fill: #FFFFFF;\n",
              "    }\n",
              "  </style>\n",
              "\n",
              "      <script>\n",
              "        const buttonEl =\n",
              "          document.querySelector('#df-f05a9e72-b69f-4456-8c1f-a716d3e0c489 button.colab-df-convert');\n",
              "        buttonEl.style.display =\n",
              "          google.colab.kernel.accessAllowed ? 'block' : 'none';\n",
              "\n",
              "        async function convertToInteractive(key) {\n",
              "          const element = document.querySelector('#df-f05a9e72-b69f-4456-8c1f-a716d3e0c489');\n",
              "          const dataTable =\n",
              "            await google.colab.kernel.invokeFunction('convertToInteractive',\n",
              "                                                     [key], {});\n",
              "          if (!dataTable) return;\n",
              "\n",
              "          const docLinkHtml = 'Like what you see? Visit the ' +\n",
              "            '<a target=\"_blank\" href=https://colab.research.google.com/notebooks/data_table.ipynb>data table notebook</a>'\n",
              "            + ' to learn more about interactive tables.';\n",
              "          element.innerHTML = '';\n",
              "          dataTable['output_type'] = 'display_data';\n",
              "          await google.colab.output.renderOutput(dataTable, element);\n",
              "          const docLink = document.createElement('div');\n",
              "          docLink.innerHTML = docLinkHtml;\n",
              "          element.appendChild(docLink);\n",
              "        }\n",
              "      </script>\n",
              "    </div>\n",
              "  </div>\n",
              "  "
            ]
          },
          "metadata": {},
          "execution_count": 154
        }
      ]
    },
    {
      "cell_type": "markdown",
      "source": [
        "with Increasing cylinders , price increases , go inline with general knowledge, there is descent correlation so linear relationship exist"
      ],
      "metadata": {
        "id": "MsZAnqxDFLh9"
      }
    },
    {
      "cell_type": "code",
      "source": [
        "sns.scatterplot(x= df['Liter'], y=df['Price'])\n",
        "plt.show()\n",
        "df[['Liter','Price']].corr()"
      ],
      "metadata": {
        "colab": {
          "base_uri": "https://localhost:8080/",
          "height": 374
        },
        "id": "Yqvh7A5pFfJ5",
        "outputId": "6af161d3-4e74-439e-fe09-ad9add28e69c"
      },
      "execution_count": 155,
      "outputs": [
        {
          "output_type": "display_data",
          "data": {
            "text/plain": [
              "<Figure size 432x288 with 1 Axes>"
            ],
            "image/png": "[encoded data removed]"
          },
          "metadata": {
            "needs_background": "light"
          }
        },
        {
          "output_type": "execute_result",
          "data": {
            "text/plain": [
              "          Liter     Price\n",
              "Liter  1.000000  0.558146\n",
              "Price  0.558146  1.000000"
            ],
            "text/html": [
              "\n",
              "  <div id=\"df-807e7736-ee8d-40f7-809d-27d326e97dd7\">\n",
              "    <div class=\"colab-df-container\">\n",
              "      <div>\n",
              "<style scoped>\n",
              "    .dataframe tbody tr th:only-of-type {\n",
              "        vertical-align: middle;\n",
              "    }\n",
              "\n",
              "    .dataframe tbody tr th {\n",
              "        vertical-align: top;\n",
              "    }\n",
              "\n",
              "    .dataframe thead th {\n",
              "        text-align: right;\n",
              "    }\n",
              "</style>\n",
              "<table border=\"1\" class=\"dataframe\">\n",
              "  <thead>\n",
              "    <tr style=\"text-align: right;\">\n",
              "      <th></th>\n",
              "      <th>Liter</th>\n",
              "      <th>Price</th>\n",
              "    </tr>\n",
              "  </thead>\n",
              "  <tbody>\n",
              "    <tr>\n",
              "      <th>Liter</th>\n",
              "      <td>1.000000</td>\n",
              "      <td>0.558146</td>\n",
              "    </tr>\n",
              "    <tr>\n",
              "      <th>Price</th>\n",
              "      <td>0.558146</td>\n",
              "      <td>1.000000</td>\n",
              "    </tr>\n",
              "  </tbody>\n",
              "</table>\n",
              "</div>\n",
              "      <button class=\"colab-df-convert\" onclick=\"convertToInteractive('df-807e7736-ee8d-40f7-809d-27d326e97dd7')\"\n",
              "              title=\"Convert this dataframe to an interactive table.\"\n",
              "              style=\"display:none;\">\n",
              "        \n",
              "  <svg xmlns=\"http://www.w3.org/2000/svg\" height=\"24px\"viewBox=\"0 0 24 24\"\n",
              "       width=\"24px\">\n",
              "    <path d=\"M0 0h24v24H0V0z\" fill=\"none\"/>\n",
              "    <path d=\"M18.56 5.44l.94 2.06.94-2.06 2.06-.94-2.06-.94-.94-2.06-.94 2.06-2.06.94zm-11 1L8.5 8.5l.94-2.06 2.06-.94-2.06-.94L8.5 2.5l-.94 2.06-2.06.94zm10 10l.94 2.06.94-2.06 2.06-.94-2.06-.94-.94-2.06-.94 2.06-2.06.94z\"/><path d=\"M17.41 7.96l-1.37-1.37c-.4-.4-.92-.59-1.43-.59-.52 0-1.04.2-1.43.59L10.3 9.45l-7.72 7.72c-.78.78-.78 2.05 0 2.83L4 21.41c.39.39.9.59 1.41.59.51 0 1.02-.2 1.41-.59l7.78-7.78 2.81-2.81c.8-.78.8-2.07 0-2.86zM5.41 20L4 18.59l7.72-7.72 1.47 1.35L5.41 20z\"/>\n",
              "  </svg>\n",
              "      </button>\n",
              "      \n",
              "  <style>\n",
              "    .colab-df-container {\n",
              "      display:flex;\n",
              "      flex-wrap:wrap;\n",
              "      gap: 12px;\n",
              "    }\n",
              "\n",
              "    .colab-df-convert {\n",
              "      background-color: #E8F0FE;\n",
              "      border: none;\n",
              "      border-radius: 50%;\n",
              "      cursor: pointer;\n",
              "      display: none;\n",
              "      fill: #1967D2;\n",
              "      height: 32px;\n",
              "      padding: 0 0 0 0;\n",
              "      width: 32px;\n",
              "    }\n",
              "\n",
              "    .colab-df-convert:hover {\n",
              "      background-color: #E2EBFA;\n",
              "      box-shadow: 0px 1px 2px rgba(60, 64, 67, 0.3), 0px 1px 3px 1px rgba(60, 64, 67, 0.15);\n",
              "      fill: #174EA6;\n",
              "    }\n",
              "\n",
              "    [theme=dark] .colab-df-convert {\n",
              "      background-color: #3B4455;\n",
              "      fill: #D2E3FC;\n",
              "    }\n",
              "\n",
              "    [theme=dark] .colab-df-convert:hover {\n",
              "      background-color: #434B5C;\n",
              "      box-shadow: 0px 1px 3px 1px rgba(0, 0, 0, 0.15);\n",
              "      filter: drop-shadow(0px 1px 2px rgba(0, 0, 0, 0.3));\n",
              "      fill: #FFFFFF;\n",
              "    }\n",
              "  </style>\n",
              "\n",
              "      <script>\n",
              "        const buttonEl =\n",
              "          document.querySelector('#df-807e7736-ee8d-40f7-809d-27d326e97dd7 button.colab-df-convert');\n",
              "        buttonEl.style.display =\n",
              "          google.colab.kernel.accessAllowed ? 'block' : 'none';\n",
              "\n",
              "        async function convertToInteractive(key) {\n",
              "          const element = document.querySelector('#df-807e7736-ee8d-40f7-809d-27d326e97dd7');\n",
              "          const dataTable =\n",
              "            await google.colab.kernel.invokeFunction('convertToInteractive',\n",
              "                                                     [key], {});\n",
              "          if (!dataTable) return;\n",
              "\n",
              "          const docLinkHtml = 'Like what you see? Visit the ' +\n",
              "            '<a target=\"_blank\" href=https://colab.research.google.com/notebooks/data_table.ipynb>data table notebook</a>'\n",
              "            + ' to learn more about interactive tables.';\n",
              "          element.innerHTML = '';\n",
              "          dataTable['output_type'] = 'display_data';\n",
              "          await google.colab.output.renderOutput(dataTable, element);\n",
              "          const docLink = document.createElement('div');\n",
              "          docLink.innerHTML = docLinkHtml;\n",
              "          element.appendChild(docLink);\n",
              "        }\n",
              "      </script>\n",
              "    </div>\n",
              "  </div>\n",
              "  "
            ]
          },
          "metadata": {},
          "execution_count": 155
        }
      ]
    },
    {
      "cell_type": "markdown",
      "source": [
        "Descent correaltion, So Linear Relationship Exist between price and liter"
      ],
      "metadata": {
        "id": "Ztv3acgVFwRW"
      }
    },
    {
      "cell_type": "code",
      "source": [
        "sns.scatterplot(x= df['Doors'], y= df['Price'])\n",
        "plt.show()\n",
        "df[['Doors','Price']].corr()"
      ],
      "metadata": {
        "colab": {
          "base_uri": "https://localhost:8080/",
          "height": 374
        },
        "id": "QB_bF7oaFvD3",
        "outputId": "083f6b08-3728-425f-cb40-04ed86ac1fe3"
      },
      "execution_count": 156,
      "outputs": [
        {
          "output_type": "display_data",
          "data": {
            "text/plain": [
              "<Figure size 432x288 with 1 Axes>"
            ],
            "image/png": "[encoded data removed]"
          },
          "metadata": {
            "needs_background": "light"
          }
        },
        {
          "output_type": "execute_result",
          "data": {
            "text/plain": [
              "         Doors    Price\n",
              "Doors  1.00000 -0.13875\n",
              "Price -0.13875  1.00000"
            ],
            "text/html": [
              "\n",
              "  <div id=\"df-13413f7a-eb55-4d17-9c7e-5a7409499f97\">\n",
              "    <div class=\"colab-df-container\">\n",
              "      <div>\n",
              "<style scoped>\n",
              "    .dataframe tbody tr th:only-of-type {\n",
              "        vertical-align: middle;\n",
              "    }\n",
              "\n",
              "    .dataframe tbody tr th {\n",
              "        vertical-align: top;\n",
              "    }\n",
              "\n",
              "    .dataframe thead th {\n",
              "        text-align: right;\n",
              "    }\n",
              "</style>\n",
              "<table border=\"1\" class=\"dataframe\">\n",
              "  <thead>\n",
              "    <tr style=\"text-align: right;\">\n",
              "      <th></th>\n",
              "      <th>Doors</th>\n",
              "      <th>Price</th>\n",
              "    </tr>\n",
              "  </thead>\n",
              "  <tbody>\n",
              "    <tr>\n",
              "      <th>Doors</th>\n",
              "      <td>1.00000</td>\n",
              "      <td>-0.13875</td>\n",
              "    </tr>\n",
              "    <tr>\n",
              "      <th>Price</th>\n",
              "      <td>-0.13875</td>\n",
              "      <td>1.00000</td>\n",
              "    </tr>\n",
              "  </tbody>\n",
              "</table>\n",
              "</div>\n",
              "      <button class=\"colab-df-convert\" onclick=\"convertToInteractive('df-13413f7a-eb55-4d17-9c7e-5a7409499f97')\"\n",
              "              title=\"Convert this dataframe to an interactive table.\"\n",
              "              style=\"display:none;\">\n",
              "        \n",
              "  <svg xmlns=\"http://www.w3.org/2000/svg\" height=\"24px\"viewBox=\"0 0 24 24\"\n",
              "       width=\"24px\">\n",
              "    <path d=\"M0 0h24v24H0V0z\" fill=\"none\"/>\n",
              "    <path d=\"M18.56 5.44l.94 2.06.94-2.06 2.06-.94-2.06-.94-.94-2.06-.94 2.06-2.06.94zm-11 1L8.5 8.5l.94-2.06 2.06-.94-2.06-.94L8.5 2.5l-.94 2.06-2.06.94zm10 10l.94 2.06.94-2.06 2.06-.94-2.06-.94-.94-2.06-.94 2.06-2.06.94z\"/><path d=\"M17.41 7.96l-1.37-1.37c-.4-.4-.92-.59-1.43-.59-.52 0-1.04.2-1.43.59L10.3 9.45l-7.72 7.72c-.78.78-.78 2.05 0 2.83L4 21.41c.39.39.9.59 1.41.59.51 0 1.02-.2 1.41-.59l7.78-7.78 2.81-2.81c.8-.78.8-2.07 0-2.86zM5.41 20L4 18.59l7.72-7.72 1.47 1.35L5.41 20z\"/>\n",
              "  </svg>\n",
              "      </button>\n",
              "      \n",
              "  <style>\n",
              "    .colab-df-container {\n",
              "      display:flex;\n",
              "      flex-wrap:wrap;\n",
              "      gap: 12px;\n",
              "    }\n",
              "\n",
              "    .colab-df-convert {\n",
              "      background-color: #E8F0FE;\n",
              "      border: none;\n",
              "      border-radius: 50%;\n",
              "      cursor: pointer;\n",
              "      display: none;\n",
              "      fill: #1967D2;\n",
              "      height: 32px;\n",
              "      padding: 0 0 0 0;\n",
              "      width: 32px;\n",
              "    }\n",
              "\n",
              "    .colab-df-convert:hover {\n",
              "      background-color: #E2EBFA;\n",
              "      box-shadow: 0px 1px 2px rgba(60, 64, 67, 0.3), 0px 1px 3px 1px rgba(60, 64, 67, 0.15);\n",
              "      fill: #174EA6;\n",
              "    }\n",
              "\n",
              "    [theme=dark] .colab-df-convert {\n",
              "      background-color: #3B4455;\n",
              "      fill: #D2E3FC;\n",
              "    }\n",
              "\n",
              "    [theme=dark] .colab-df-convert:hover {\n",
              "      background-color: #434B5C;\n",
              "      box-shadow: 0px 1px 3px 1px rgba(0, 0, 0, 0.15);\n",
              "      filter: drop-shadow(0px 1px 2px rgba(0, 0, 0, 0.3));\n",
              "      fill: #FFFFFF;\n",
              "    }\n",
              "  </style>\n",
              "\n",
              "      <script>\n",
              "        const buttonEl =\n",
              "          document.querySelector('#df-13413f7a-eb55-4d17-9c7e-5a7409499f97 button.colab-df-convert');\n",
              "        buttonEl.style.display =\n",
              "          google.colab.kernel.accessAllowed ? 'block' : 'none';\n",
              "\n",
              "        async function convertToInteractive(key) {\n",
              "          const element = document.querySelector('#df-13413f7a-eb55-4d17-9c7e-5a7409499f97');\n",
              "          const dataTable =\n",
              "            await google.colab.kernel.invokeFunction('convertToInteractive',\n",
              "                                                     [key], {});\n",
              "          if (!dataTable) return;\n",
              "\n",
              "          const docLinkHtml = 'Like what you see? Visit the ' +\n",
              "            '<a target=\"_blank\" href=https://colab.research.google.com/notebooks/data_table.ipynb>data table notebook</a>'\n",
              "            + ' to learn more about interactive tables.';\n",
              "          element.innerHTML = '';\n",
              "          dataTable['output_type'] = 'display_data';\n",
              "          await google.colab.output.renderOutput(dataTable, element);\n",
              "          const docLink = document.createElement('div');\n",
              "          docLink.innerHTML = docLinkHtml;\n",
              "          element.appendChild(docLink);\n",
              "        }\n",
              "      </script>\n",
              "    </div>\n",
              "  </div>\n",
              "  "
            ]
          },
          "metadata": {},
          "execution_count": 156
        }
      ]
    },
    {
      "cell_type": "markdown",
      "source": [
        "No Linear Relationship Between doors and Price, Need to be transformation"
      ],
      "metadata": {
        "id": "xZHSXoITGI2Q"
      }
    },
    {
      "cell_type": "code",
      "source": [
        "sns.scatterplot(x=df['Cruise'], y=df['Price'])\n",
        "plt.show()\n",
        "df[['Cruise','Price']].corr()"
      ],
      "metadata": {
        "colab": {
          "base_uri": "https://localhost:8080/",
          "height": 374
        },
        "id": "ghh-_HenGRI3",
        "outputId": "591cbce7-a0b9-4d1a-e111-8a9c8fb1ff2e"
      },
      "execution_count": 157,
      "outputs": [
        {
          "output_type": "display_data",
          "data": {
            "text/plain": [
              "<Figure size 432x288 with 1 Axes>"
            ],
            "image/png": "[encoded data removed]"
          },
          "metadata": {
            "needs_background": "light"
          }
        },
        {
          "output_type": "execute_result",
          "data": {
            "text/plain": [
              "          Cruise     Price\n",
              "Cruise  1.000000  0.430851\n",
              "Price   0.430851  1.000000"
            ],
            "text/html": [
              "\n",
              "  <div id=\"df-5aba46ec-8afc-4837-b67f-c78225588f62\">\n",
              "    <div class=\"colab-df-container\">\n",
              "      <div>\n",
              "<style scoped>\n",
              "    .dataframe tbody tr th:only-of-type {\n",
              "        vertical-align: middle;\n",
              "    }\n",
              "\n",
              "    .dataframe tbody tr th {\n",
              "        vertical-align: top;\n",
              "    }\n",
              "\n",
              "    .dataframe thead th {\n",
              "        text-align: right;\n",
              "    }\n",
              "</style>\n",
              "<table border=\"1\" class=\"dataframe\">\n",
              "  <thead>\n",
              "    <tr style=\"text-align: right;\">\n",
              "      <th></th>\n",
              "      <th>Cruise</th>\n",
              "      <th>Price</th>\n",
              "    </tr>\n",
              "  </thead>\n",
              "  <tbody>\n",
              "    <tr>\n",
              "      <th>Cruise</th>\n",
              "      <td>1.000000</td>\n",
              "      <td>0.430851</td>\n",
              "    </tr>\n",
              "    <tr>\n",
              "      <th>Price</th>\n",
              "      <td>0.430851</td>\n",
              "      <td>1.000000</td>\n",
              "    </tr>\n",
              "  </tbody>\n",
              "</table>\n",
              "</div>\n",
              "      <button class=\"colab-df-convert\" onclick=\"convertToInteractive('df-5aba46ec-8afc-4837-b67f-c78225588f62')\"\n",
              "              title=\"Convert this dataframe to an interactive table.\"\n",
              "              style=\"display:none;\">\n",
              "        \n",
              "  <svg xmlns=\"http://www.w3.org/2000/svg\" height=\"24px\"viewBox=\"0 0 24 24\"\n",
              "       width=\"24px\">\n",
              "    <path d=\"M0 0h24v24H0V0z\" fill=\"none\"/>\n",
              "    <path d=\"M18.56 5.44l.94 2.06.94-2.06 2.06-.94-2.06-.94-.94-2.06-.94 2.06-2.06.94zm-11 1L8.5 8.5l.94-2.06 2.06-.94-2.06-.94L8.5 2.5l-.94 2.06-2.06.94zm10 10l.94 2.06.94-2.06 2.06-.94-2.06-.94-.94-2.06-.94 2.06-2.06.94z\"/><path d=\"M17.41 7.96l-1.37-1.37c-.4-.4-.92-.59-1.43-.59-.52 0-1.04.2-1.43.59L10.3 9.45l-7.72 7.72c-.78.78-.78 2.05 0 2.83L4 21.41c.39.39.9.59 1.41.59.51 0 1.02-.2 1.41-.59l7.78-7.78 2.81-2.81c.8-.78.8-2.07 0-2.86zM5.41 20L4 18.59l7.72-7.72 1.47 1.35L5.41 20z\"/>\n",
              "  </svg>\n",
              "      </button>\n",
              "      \n",
              "  <style>\n",
              "    .colab-df-container {\n",
              "      display:flex;\n",
              "      flex-wrap:wrap;\n",
              "      gap: 12px;\n",
              "    }\n",
              "\n",
              "    .colab-df-convert {\n",
              "      background-color: #E8F0FE;\n",
              "      border: none;\n",
              "      border-radius: 50%;\n",
              "      cursor: pointer;\n",
              "      display: none;\n",
              "      fill: #1967D2;\n",
              "      height: 32px;\n",
              "      padding: 0 0 0 0;\n",
              "      width: 32px;\n",
              "    }\n",
              "\n",
              "    .colab-df-convert:hover {\n",
              "      background-color: #E2EBFA;\n",
              "      box-shadow: 0px 1px 2px rgba(60, 64, 67, 0.3), 0px 1px 3px 1px rgba(60, 64, 67, 0.15);\n",
              "      fill: #174EA6;\n",
              "    }\n",
              "\n",
              "    [theme=dark] .colab-df-convert {\n",
              "      background-color: #3B4455;\n",
              "      fill: #D2E3FC;\n",
              "    }\n",
              "\n",
              "    [theme=dark] .colab-df-convert:hover {\n",
              "      background-color: #434B5C;\n",
              "      box-shadow: 0px 1px 3px 1px rgba(0, 0, 0, 0.15);\n",
              "      filter: drop-shadow(0px 1px 2px rgba(0, 0, 0, 0.3));\n",
              "      fill: #FFFFFF;\n",
              "    }\n",
              "  </style>\n",
              "\n",
              "      <script>\n",
              "        const buttonEl =\n",
              "          document.querySelector('#df-5aba46ec-8afc-4837-b67f-c78225588f62 button.colab-df-convert');\n",
              "        buttonEl.style.display =\n",
              "          google.colab.kernel.accessAllowed ? 'block' : 'none';\n",
              "\n",
              "        async function convertToInteractive(key) {\n",
              "          const element = document.querySelector('#df-5aba46ec-8afc-4837-b67f-c78225588f62');\n",
              "          const dataTable =\n",
              "            await google.colab.kernel.invokeFunction('convertToInteractive',\n",
              "                                                     [key], {});\n",
              "          if (!dataTable) return;\n",
              "\n",
              "          const docLinkHtml = 'Like what you see? Visit the ' +\n",
              "            '<a target=\"_blank\" href=https://colab.research.google.com/notebooks/data_table.ipynb>data table notebook</a>'\n",
              "            + ' to learn more about interactive tables.';\n",
              "          element.innerHTML = '';\n",
              "          dataTable['output_type'] = 'display_data';\n",
              "          await google.colab.output.renderOutput(dataTable, element);\n",
              "          const docLink = document.createElement('div');\n",
              "          docLink.innerHTML = docLinkHtml;\n",
              "          element.appendChild(docLink);\n",
              "        }\n",
              "      </script>\n",
              "    </div>\n",
              "  </div>\n",
              "  "
            ]
          },
          "metadata": {},
          "execution_count": 157
        }
      ]
    },
    {
      "cell_type": "markdown",
      "source": [
        "Descent correaltion So Linear Relationship Exist"
      ],
      "metadata": {
        "id": "ibziYQHLL5t9"
      }
    },
    {
      "cell_type": "code",
      "source": [
        "sns.scatterplot(x=df['Sound'], y=df['Price'])\n",
        "plt.show()\n",
        "df[['Sound','Price']].corr()"
      ],
      "metadata": {
        "colab": {
          "base_uri": "https://localhost:8080/",
          "height": 374
        },
        "id": "pj3p9O-0L5Is",
        "outputId": "d6c4bdc5-858d-4ae2-bd34-2a1dcb732fbd"
      },
      "execution_count": 158,
      "outputs": [
        {
          "output_type": "display_data",
          "data": {
            "text/plain": [
              "<Figure size 432x288 with 1 Axes>"
            ],
            "image/png": "[encoded data removed]"
          },
          "metadata": {
            "needs_background": "light"
          }
        },
        {
          "output_type": "execute_result",
          "data": {
            "text/plain": [
              "          Sound     Price\n",
              "Sound  1.000000 -0.124348\n",
              "Price -0.124348  1.000000"
            ],
            "text/html": [
              "\n",
              "  <div id=\"df-310d329b-0c34-4fd5-8512-71998f33d184\">\n",
              "    <div class=\"colab-df-container\">\n",
              "      <div>\n",
              "<style scoped>\n",
              "    .dataframe tbody tr th:only-of-type {\n",
              "        vertical-align: middle;\n",
              "    }\n",
              "\n",
              "    .dataframe tbody tr th {\n",
              "        vertical-align: top;\n",
              "    }\n",
              "\n",
              "    .dataframe thead th {\n",
              "        text-align: right;\n",
              "    }\n",
              "</style>\n",
              "<table border=\"1\" class=\"dataframe\">\n",
              "  <thead>\n",
              "    <tr style=\"text-align: right;\">\n",
              "      <th></th>\n",
              "      <th>Sound</th>\n",
              "      <th>Price</th>\n",
              "    </tr>\n",
              "  </thead>\n",
              "  <tbody>\n",
              "    <tr>\n",
              "      <th>Sound</th>\n",
              "      <td>1.000000</td>\n",
              "      <td>-0.124348</td>\n",
              "    </tr>\n",
              "    <tr>\n",
              "      <th>Price</th>\n",
              "      <td>-0.124348</td>\n",
              "      <td>1.000000</td>\n",
              "    </tr>\n",
              "  </tbody>\n",
              "</table>\n",
              "</div>\n",
              "      <button class=\"colab-df-convert\" onclick=\"convertToInteractive('df-310d329b-0c34-4fd5-8512-71998f33d184')\"\n",
              "              title=\"Convert this dataframe to an interactive table.\"\n",
              "              style=\"display:none;\">\n",
              "        \n",
              "  <svg xmlns=\"http://www.w3.org/2000/svg\" height=\"24px\"viewBox=\"0 0 24 24\"\n",
              "       width=\"24px\">\n",
              "    <path d=\"M0 0h24v24H0V0z\" fill=\"none\"/>\n",
              "    <path d=\"M18.56 5.44l.94 2.06.94-2.06 2.06-.94-2.06-.94-.94-2.06-.94 2.06-2.06.94zm-11 1L8.5 8.5l.94-2.06 2.06-.94-2.06-.94L8.5 2.5l-.94 2.06-2.06.94zm10 10l.94 2.06.94-2.06 2.06-.94-2.06-.94-.94-2.06-.94 2.06-2.06.94z\"/><path d=\"M17.41 7.96l-1.37-1.37c-.4-.4-.92-.59-1.43-.59-.52 0-1.04.2-1.43.59L10.3 9.45l-7.72 7.72c-.78.78-.78 2.05 0 2.83L4 21.41c.39.39.9.59 1.41.59.51 0 1.02-.2 1.41-.59l7.78-7.78 2.81-2.81c.8-.78.8-2.07 0-2.86zM5.41 20L4 18.59l7.72-7.72 1.47 1.35L5.41 20z\"/>\n",
              "  </svg>\n",
              "      </button>\n",
              "      \n",
              "  <style>\n",
              "    .colab-df-container {\n",
              "      display:flex;\n",
              "      flex-wrap:wrap;\n",
              "      gap: 12px;\n",
              "    }\n",
              "\n",
              "    .colab-df-convert {\n",
              "      background-color: #E8F0FE;\n",
              "      border: none;\n",
              "      border-radius: 50%;\n",
              "      cursor: pointer;\n",
              "      display: none;\n",
              "      fill: #1967D2;\n",
              "      height: 32px;\n",
              "      padding: 0 0 0 0;\n",
              "      width: 32px;\n",
              "    }\n",
              "\n",
              "    .colab-df-convert:hover {\n",
              "      background-color: #E2EBFA;\n",
              "      box-shadow: 0px 1px 2px rgba(60, 64, 67, 0.3), 0px 1px 3px 1px rgba(60, 64, 67, 0.15);\n",
              "      fill: #174EA6;\n",
              "    }\n",
              "\n",
              "    [theme=dark] .colab-df-convert {\n",
              "      background-color: #3B4455;\n",
              "      fill: #D2E3FC;\n",
              "    }\n",
              "\n",
              "    [theme=dark] .colab-df-convert:hover {\n",
              "      background-color: #434B5C;\n",
              "      box-shadow: 0px 1px 3px 1px rgba(0, 0, 0, 0.15);\n",
              "      filter: drop-shadow(0px 1px 2px rgba(0, 0, 0, 0.3));\n",
              "      fill: #FFFFFF;\n",
              "    }\n",
              "  </style>\n",
              "\n",
              "      <script>\n",
              "        const buttonEl =\n",
              "          document.querySelector('#df-310d329b-0c34-4fd5-8512-71998f33d184 button.colab-df-convert');\n",
              "        buttonEl.style.display =\n",
              "          google.colab.kernel.accessAllowed ? 'block' : 'none';\n",
              "\n",
              "        async function convertToInteractive(key) {\n",
              "          const element = document.querySelector('#df-310d329b-0c34-4fd5-8512-71998f33d184');\n",
              "          const dataTable =\n",
              "            await google.colab.kernel.invokeFunction('convertToInteractive',\n",
              "                                                     [key], {});\n",
              "          if (!dataTable) return;\n",
              "\n",
              "          const docLinkHtml = 'Like what you see? Visit the ' +\n",
              "            '<a target=\"_blank\" href=https://colab.research.google.com/notebooks/data_table.ipynb>data table notebook</a>'\n",
              "            + ' to learn more about interactive tables.';\n",
              "          element.innerHTML = '';\n",
              "          dataTable['output_type'] = 'display_data';\n",
              "          await google.colab.output.renderOutput(dataTable, element);\n",
              "          const docLink = document.createElement('div');\n",
              "          docLink.innerHTML = docLinkHtml;\n",
              "          element.appendChild(docLink);\n",
              "        }\n",
              "      </script>\n",
              "    </div>\n",
              "  </div>\n",
              "  "
            ]
          },
          "metadata": {},
          "execution_count": 158
        }
      ]
    },
    {
      "cell_type": "markdown",
      "source": [
        "Bad correlation , No Linear Relationship"
      ],
      "metadata": {
        "id": "tqEYj61FoDQa"
      }
    },
    {
      "cell_type": "code",
      "source": [
        "sns.scatterplot(x=df['Leather'], y=df['Price'])\n",
        "plt.show()\n",
        "df[['Leather','Price']].corr()"
      ],
      "metadata": {
        "colab": {
          "base_uri": "https://localhost:8080/",
          "height": 374
        },
        "id": "S6rXbgyANT7g",
        "outputId": "f1629841-67bb-4c83-c505-a73fd02c8b3c"
      },
      "execution_count": 159,
      "outputs": [
        {
          "output_type": "display_data",
          "data": {
            "text/plain": [
              "<Figure size 432x288 with 1 Axes>"
            ],
            "image/png": "[encoded data removed]"
          },
          "metadata": {
            "needs_background": "light"
          }
        },
        {
          "output_type": "execute_result",
          "data": {
            "text/plain": [
              "          Leather     Price\n",
              "Leather  1.000000  0.157197\n",
              "Price    0.157197  1.000000"
            ],
            "text/html": [
              "\n",
              "  <div id=\"df-a307c850-1c31-4ffb-82f2-954cab0dcade\">\n",
              "    <div class=\"colab-df-container\">\n",
              "      <div>\n",
              "<style scoped>\n",
              "    .dataframe tbody tr th:only-of-type {\n",
              "        vertical-align: middle;\n",
              "    }\n",
              "\n",
              "    .dataframe tbody tr th {\n",
              "        vertical-align: top;\n",
              "    }\n",
              "\n",
              "    .dataframe thead th {\n",
              "        text-align: right;\n",
              "    }\n",
              "</style>\n",
              "<table border=\"1\" class=\"dataframe\">\n",
              "  <thead>\n",
              "    <tr style=\"text-align: right;\">\n",
              "      <th></th>\n",
              "      <th>Leather</th>\n",
              "      <th>Price</th>\n",
              "    </tr>\n",
              "  </thead>\n",
              "  <tbody>\n",
              "    <tr>\n",
              "      <th>Leather</th>\n",
              "      <td>1.000000</td>\n",
              "      <td>0.157197</td>\n",
              "    </tr>\n",
              "    <tr>\n",
              "      <th>Price</th>\n",
              "      <td>0.157197</td>\n",
              "      <td>1.000000</td>\n",
              "    </tr>\n",
              "  </tbody>\n",
              "</table>\n",
              "</div>\n",
              "      <button class=\"colab-df-convert\" onclick=\"convertToInteractive('df-a307c850-1c31-4ffb-82f2-954cab0dcade')\"\n",
              "              title=\"Convert this dataframe to an interactive table.\"\n",
              "              style=\"display:none;\">\n",
              "        \n",
              "  <svg xmlns=\"http://www.w3.org/2000/svg\" height=\"24px\"viewBox=\"0 0 24 24\"\n",
              "       width=\"24px\">\n",
              "    <path d=\"M0 0h24v24H0V0z\" fill=\"none\"/>\n",
              "    <path d=\"M18.56 5.44l.94 2.06.94-2.06 2.06-.94-2.06-.94-.94-2.06-.94 2.06-2.06.94zm-11 1L8.5 8.5l.94-2.06 2.06-.94-2.06-.94L8.5 2.5l-.94 2.06-2.06.94zm10 10l.94 2.06.94-2.06 2.06-.94-2.06-.94-.94-2.06-.94 2.06-2.06.94z\"/><path d=\"M17.41 7.96l-1.37-1.37c-.4-.4-.92-.59-1.43-.59-.52 0-1.04.2-1.43.59L10.3 9.45l-7.72 7.72c-.78.78-.78 2.05 0 2.83L4 21.41c.39.39.9.59 1.41.59.51 0 1.02-.2 1.41-.59l7.78-7.78 2.81-2.81c.8-.78.8-2.07 0-2.86zM5.41 20L4 18.59l7.72-7.72 1.47 1.35L5.41 20z\"/>\n",
              "  </svg>\n",
              "      </button>\n",
              "      \n",
              "  <style>\n",
              "    .colab-df-container {\n",
              "      display:flex;\n",
              "      flex-wrap:wrap;\n",
              "      gap: 12px;\n",
              "    }\n",
              "\n",
              "    .colab-df-convert {\n",
              "      background-color: #E8F0FE;\n",
              "      border: none;\n",
              "      border-radius: 50%;\n",
              "      cursor: pointer;\n",
              "      display: none;\n",
              "      fill: #1967D2;\n",
              "      height: 32px;\n",
              "      padding: 0 0 0 0;\n",
              "      width: 32px;\n",
              "    }\n",
              "\n",
              "    .colab-df-convert:hover {\n",
              "      background-color: #E2EBFA;\n",
              "      box-shadow: 0px 1px 2px rgba(60, 64, 67, 0.3), 0px 1px 3px 1px rgba(60, 64, 67, 0.15);\n",
              "      fill: #174EA6;\n",
              "    }\n",
              "\n",
              "    [theme=dark] .colab-df-convert {\n",
              "      background-color: #3B4455;\n",
              "      fill: #D2E3FC;\n",
              "    }\n",
              "\n",
              "    [theme=dark] .colab-df-convert:hover {\n",
              "      background-color: #434B5C;\n",
              "      box-shadow: 0px 1px 3px 1px rgba(0, 0, 0, 0.15);\n",
              "      filter: drop-shadow(0px 1px 2px rgba(0, 0, 0, 0.3));\n",
              "      fill: #FFFFFF;\n",
              "    }\n",
              "  </style>\n",
              "\n",
              "      <script>\n",
              "        const buttonEl =\n",
              "          document.querySelector('#df-a307c850-1c31-4ffb-82f2-954cab0dcade button.colab-df-convert');\n",
              "        buttonEl.style.display =\n",
              "          google.colab.kernel.accessAllowed ? 'block' : 'none';\n",
              "\n",
              "        async function convertToInteractive(key) {\n",
              "          const element = document.querySelector('#df-a307c850-1c31-4ffb-82f2-954cab0dcade');\n",
              "          const dataTable =\n",
              "            await google.colab.kernel.invokeFunction('convertToInteractive',\n",
              "                                                     [key], {});\n",
              "          if (!dataTable) return;\n",
              "\n",
              "          const docLinkHtml = 'Like what you see? Visit the ' +\n",
              "            '<a target=\"_blank\" href=https://colab.research.google.com/notebooks/data_table.ipynb>data table notebook</a>'\n",
              "            + ' to learn more about interactive tables.';\n",
              "          element.innerHTML = '';\n",
              "          dataTable['output_type'] = 'display_data';\n",
              "          await google.colab.output.renderOutput(dataTable, element);\n",
              "          const docLink = document.createElement('div');\n",
              "          docLink.innerHTML = docLinkHtml;\n",
              "          element.appendChild(docLink);\n",
              "        }\n",
              "      </script>\n",
              "    </div>\n",
              "  </div>\n",
              "  "
            ]
          },
          "metadata": {},
          "execution_count": 159
        }
      ]
    },
    {
      "cell_type": "markdown",
      "source": [
        "No Correlation between Leather and Price. So no Linear realtionship Exist."
      ],
      "metadata": {
        "id": "bMAkOx9T6kXp"
      }
    },
    {
      "cell_type": "markdown",
      "source": [
        "There is a linear relation between (Price, Cylinder) and (Price, Liter) and (Price, Cruise). No transformation required in these.\n",
        "[ ]\n"
      ],
      "metadata": {
        "id": "_6dwc4HS6-eG"
      }
    },
    {
      "cell_type": "code",
      "source": [
        "X = df[['Cylinder', 'Liter', 'Cruise', 'Doors','Sound', 'Mileage','Leather']].values #array of features\n",
        "y = df['Price'].values"
      ],
      "metadata": {
        "id": "-qyyia526vZH"
      },
      "execution_count": 160,
      "outputs": []
    },
    {
      "cell_type": "code",
      "source": [
        "from sklearn.model_selection import train_test_split\n",
        "X_train, X_test, y_train, y_test = train_test_split(X, y, test_size=0.2, random_state=10)\n"
      ],
      "metadata": {
        "id": "lafyw32L7XMj"
      },
      "execution_count": 161,
      "outputs": []
    },
    {
      "cell_type": "code",
      "source": [
        "from sklearn.preprocessing import StandardScaler ## standrard scalig \n",
        "scaler = StandardScaler() #initialise to a variable\n",
        "scaler.fit(X_train,y_train)\n",
        "X_train = scaler.transform(X_train)\n",
        "X_test = scaler.transform(X_test)"
      ],
      "metadata": {
        "id": "WTp3-Hba7jTa"
      },
      "execution_count": 162,
      "outputs": []
    },
    {
      "cell_type": "code",
      "source": [
        "from sklearn.linear_model import LinearRegression\n",
        "regressor = LinearRegression()\n",
        "regressor.fit(X_train, y_train)"
      ],
      "metadata": {
        "colab": {
          "base_uri": "https://localhost:8080/"
        },
        "id": "Mc08_SbG7vCY",
        "outputId": "88e7e507-4ae3-49f1-d599-dc1cb17b2d40"
      },
      "execution_count": 163,
      "outputs": [
        {
          "output_type": "execute_result",
          "data": {
            "text/plain": [
              "LinearRegression()"
            ]
          },
          "metadata": {},
          "execution_count": 163
        }
      ]
    },
    {
      "cell_type": "code",
      "source": [
        "print(regressor.intercept_ )# c \n",
        "print(regressor.coef_)"
      ],
      "metadata": {
        "colab": {
          "base_uri": "https://localhost:8080/"
        },
        "id": "Q0gTiKKP8GfI",
        "outputId": "5d68e606-a737-4d90-fd9e-47d7df8e72b7"
      },
      "execution_count": 164,
      "outputs": [
        {
          "output_type": "stream",
          "name": "stdout",
          "text": [
            "21315.855953019993\n",
            "[ 4773.01976639  -469.51721744  2648.25501421 -1177.92487375\n",
            "  -856.21027855 -1106.46566823  1536.65264511]\n"
          ]
        }
      ]
    },
    {
      "cell_type": "code",
      "source": [
        "data = pd.DataFrame({'Actual': y_test, 'Predicted': y_pred})\n",
        "data"
      ],
      "metadata": {
        "colab": {
          "base_uri": "https://localhost:8080/",
          "height": 423
        },
        "id": "_Yhmi_js8LqZ",
        "outputId": "184e1a84-a9bd-4ac1-eead-c85cac777300"
      },
      "execution_count": 165,
      "outputs": [
        {
          "output_type": "execute_result",
          "data": {
            "text/plain": [
              "           Actual     Predicted\n",
              "0    11045.108844  20611.854498\n",
              "1    12045.920705  21463.587596\n",
              "2    14703.136868  20805.187876\n",
              "3    15053.933735  23734.666792\n",
              "4    12553.071428  19314.184557\n",
              "..            ...           ...\n",
              "156  44084.914212  21113.768645\n",
              "157  10106.016431  22237.548306\n",
              "158  12828.030977  21472.211551\n",
              "159  57154.443437  19876.152787\n",
              "160  15138.400824  19374.081841\n",
              "\n",
              "[161 rows x 2 columns]"
            ],
            "text/html": [
              "\n",
              "  <div id=\"df-e45bc456-db6c-4c68-a630-c0e3354cdd08\">\n",
              "    <div class=\"colab-df-container\">\n",
              "      <div>\n",
              "<style scoped>\n",
              "    .dataframe tbody tr th:only-of-type {\n",
              "        vertical-align: middle;\n",
              "    }\n",
              "\n",
              "    .dataframe tbody tr th {\n",
              "        vertical-align: top;\n",
              "    }\n",
              "\n",
              "    .dataframe thead th {\n",
              "        text-align: right;\n",
              "    }\n",
              "</style>\n",
              "<table border=\"1\" class=\"dataframe\">\n",
              "  <thead>\n",
              "    <tr style=\"text-align: right;\">\n",
              "      <th></th>\n",
              "      <th>Actual</th>\n",
              "      <th>Predicted</th>\n",
              "    </tr>\n",
              "  </thead>\n",
              "  <tbody>\n",
              "    <tr>\n",
              "      <th>0</th>\n",
              "      <td>11045.108844</td>\n",
              "      <td>20611.854498</td>\n",
              "    </tr>\n",
              "    <tr>\n",
              "      <th>1</th>\n",
              "      <td>12045.920705</td>\n",
              "      <td>21463.587596</td>\n",
              "    </tr>\n",
              "    <tr>\n",
              "      <th>2</th>\n",
              "      <td>14703.136868</td>\n",
              "      <td>20805.187876</td>\n",
              "    </tr>\n",
              "    <tr>\n",
              "      <th>3</th>\n",
              "      <td>15053.933735</td>\n",
              "      <td>23734.666792</td>\n",
              "    </tr>\n",
              "    <tr>\n",
              "      <th>4</th>\n",
              "      <td>12553.071428</td>\n",
              "      <td>19314.184557</td>\n",
              "    </tr>\n",
              "    <tr>\n",
              "      <th>...</th>\n",
              "      <td>...</td>\n",
              "      <td>...</td>\n",
              "    </tr>\n",
              "    <tr>\n",
              "      <th>156</th>\n",
              "      <td>44084.914212</td>\n",
              "      <td>21113.768645</td>\n",
              "    </tr>\n",
              "    <tr>\n",
              "      <th>157</th>\n",
              "      <td>10106.016431</td>\n",
              "      <td>22237.548306</td>\n",
              "    </tr>\n",
              "    <tr>\n",
              "      <th>158</th>\n",
              "      <td>12828.030977</td>\n",
              "      <td>21472.211551</td>\n",
              "    </tr>\n",
              "    <tr>\n",
              "      <th>159</th>\n",
              "      <td>57154.443437</td>\n",
              "      <td>19876.152787</td>\n",
              "    </tr>\n",
              "    <tr>\n",
              "      <th>160</th>\n",
              "      <td>15138.400824</td>\n",
              "      <td>19374.081841</td>\n",
              "    </tr>\n",
              "  </tbody>\n",
              "</table>\n",
              "<p>161 rows × 2 columns</p>\n",
              "</div>\n",
              "      <button class=\"colab-df-convert\" onclick=\"convertToInteractive('df-e45bc456-db6c-4c68-a630-c0e3354cdd08')\"\n",
              "              title=\"Convert this dataframe to an interactive table.\"\n",
              "              style=\"display:none;\">\n",
              "        \n",
              "  <svg xmlns=\"http://www.w3.org/2000/svg\" height=\"24px\"viewBox=\"0 0 24 24\"\n",
              "       width=\"24px\">\n",
              "    <path d=\"M0 0h24v24H0V0z\" fill=\"none\"/>\n",
              "    <path d=\"M18.56 5.44l.94 2.06.94-2.06 2.06-.94-2.06-.94-.94-2.06-.94 2.06-2.06.94zm-11 1L8.5 8.5l.94-2.06 2.06-.94-2.06-.94L8.5 2.5l-.94 2.06-2.06.94zm10 10l.94 2.06.94-2.06 2.06-.94-2.06-.94-.94-2.06-.94 2.06-2.06.94z\"/><path d=\"M17.41 7.96l-1.37-1.37c-.4-.4-.92-.59-1.43-.59-.52 0-1.04.2-1.43.59L10.3 9.45l-7.72 7.72c-.78.78-.78 2.05 0 2.83L4 21.41c.39.39.9.59 1.41.59.51 0 1.02-.2 1.41-.59l7.78-7.78 2.81-2.81c.8-.78.8-2.07 0-2.86zM5.41 20L4 18.59l7.72-7.72 1.47 1.35L5.41 20z\"/>\n",
              "  </svg>\n",
              "      </button>\n",
              "      \n",
              "  <style>\n",
              "    .colab-df-container {\n",
              "      display:flex;\n",
              "      flex-wrap:wrap;\n",
              "      gap: 12px;\n",
              "    }\n",
              "\n",
              "    .colab-df-convert {\n",
              "      background-color: #E8F0FE;\n",
              "      border: none;\n",
              "      border-radius: 50%;\n",
              "      cursor: pointer;\n",
              "      display: none;\n",
              "      fill: #1967D2;\n",
              "      height: 32px;\n",
              "      padding: 0 0 0 0;\n",
              "      width: 32px;\n",
              "    }\n",
              "\n",
              "    .colab-df-convert:hover {\n",
              "      background-color: #E2EBFA;\n",
              "      box-shadow: 0px 1px 2px rgba(60, 64, 67, 0.3), 0px 1px 3px 1px rgba(60, 64, 67, 0.15);\n",
              "      fill: #174EA6;\n",
              "    }\n",
              "\n",
              "    [theme=dark] .colab-df-convert {\n",
              "      background-color: #3B4455;\n",
              "      fill: #D2E3FC;\n",
              "    }\n",
              "\n",
              "    [theme=dark] .colab-df-convert:hover {\n",
              "      background-color: #434B5C;\n",
              "      box-shadow: 0px 1px 3px 1px rgba(0, 0, 0, 0.15);\n",
              "      filter: drop-shadow(0px 1px 2px rgba(0, 0, 0, 0.3));\n",
              "      fill: #FFFFFF;\n",
              "    }\n",
              "  </style>\n",
              "\n",
              "      <script>\n",
              "        const buttonEl =\n",
              "          document.querySelector('#df-e45bc456-db6c-4c68-a630-c0e3354cdd08 button.colab-df-convert');\n",
              "        buttonEl.style.display =\n",
              "          google.colab.kernel.accessAllowed ? 'block' : 'none';\n",
              "\n",
              "        async function convertToInteractive(key) {\n",
              "          const element = document.querySelector('#df-e45bc456-db6c-4c68-a630-c0e3354cdd08');\n",
              "          const dataTable =\n",
              "            await google.colab.kernel.invokeFunction('convertToInteractive',\n",
              "                                                     [key], {});\n",
              "          if (!dataTable) return;\n",
              "\n",
              "          const docLinkHtml = 'Like what you see? Visit the ' +\n",
              "            '<a target=\"_blank\" href=https://colab.research.google.com/notebooks/data_table.ipynb>data table notebook</a>'\n",
              "            + ' to learn more about interactive tables.';\n",
              "          element.innerHTML = '';\n",
              "          dataTable['output_type'] = 'display_data';\n",
              "          await google.colab.output.renderOutput(dataTable, element);\n",
              "          const docLink = document.createElement('div');\n",
              "          docLink.innerHTML = docLinkHtml;\n",
              "          element.appendChild(docLink);\n",
              "        }\n",
              "      </script>\n",
              "    </div>\n",
              "  </div>\n",
              "  "
            ]
          },
          "metadata": {},
          "execution_count": 165
        }
      ]
    },
    {
      "cell_type": "markdown",
      "source": [
        "Find the equation's R2 score (use the .score method) to determine whether the equation is a good fit for this data. (0.8 and greater is considered a strong correlation.)"
      ],
      "metadata": {
        "id": "UUb-tsTA8Tj-"
      }
    },
    {
      "cell_type": "code",
      "source": [
        "from sklearn import metrics\n",
        "print('R2- SCORE:', metrics.r2_score(y_test,y_pred))"
      ],
      "metadata": {
        "colab": {
          "base_uri": "https://localhost:8080/"
        },
        "id": "Jk602_Io8V6S",
        "outputId": "eebefe6d-d6ab-4c55-9612-747c6673e3a5"
      },
      "execution_count": 166,
      "outputs": [
        {
          "output_type": "stream",
          "name": "stdout",
          "text": [
            "R2- SCORE: 0.02872584628111674\n"
          ]
        }
      ]
    },
    {
      "cell_type": "markdown",
      "source": [
        "Find the combination of the factors that is the best predictor for price"
      ],
      "metadata": {
        "id": "kZk5wQoG8lDm"
      }
    },
    {
      "cell_type": "code",
      "source": [
        "coeff_df = pd.DataFrame(regressor.coef_,['Cylinder', 'Liter', 'Cruise','Doors','Sound','Mileage','Leather'], columns=['Coefficient'])\n",
        "y_pred = regressor.predict(X_test)\n",
        "coeff_df"
      ],
      "metadata": {
        "colab": {
          "base_uri": "https://localhost:8080/",
          "height": 269
        },
        "id": "o47f8RyN9LZY",
        "outputId": "1920b9e1-09e5-41b0-bb3a-18a936bc4127"
      },
      "execution_count": 167,
      "outputs": [
        {
          "output_type": "execute_result",
          "data": {
            "text/plain": [
              "          Coefficient\n",
              "Cylinder  4773.019766\n",
              "Liter     -469.517217\n",
              "Cruise    2648.255014\n",
              "Doors    -1177.924874\n",
              "Sound     -856.210279\n",
              "Mileage  -1106.465668\n",
              "Leather   1536.652645"
            ],
            "text/html": [
              "\n",
              "  <div id=\"df-94f70501-2190-49d9-a665-95449320370b\">\n",
              "    <div class=\"colab-df-container\">\n",
              "      <div>\n",
              "<style scoped>\n",
              "    .dataframe tbody tr th:only-of-type {\n",
              "        vertical-align: middle;\n",
              "    }\n",
              "\n",
              "    .dataframe tbody tr th {\n",
              "        vertical-align: top;\n",
              "    }\n",
              "\n",
              "    .dataframe thead th {\n",
              "        text-align: right;\n",
              "    }\n",
              "</style>\n",
              "<table border=\"1\" class=\"dataframe\">\n",
              "  <thead>\n",
              "    <tr style=\"text-align: right;\">\n",
              "      <th></th>\n",
              "      <th>Coefficient</th>\n",
              "    </tr>\n",
              "  </thead>\n",
              "  <tbody>\n",
              "    <tr>\n",
              "      <th>Cylinder</th>\n",
              "      <td>4773.019766</td>\n",
              "    </tr>\n",
              "    <tr>\n",
              "      <th>Liter</th>\n",
              "      <td>-469.517217</td>\n",
              "    </tr>\n",
              "    <tr>\n",
              "      <th>Cruise</th>\n",
              "      <td>2648.255014</td>\n",
              "    </tr>\n",
              "    <tr>\n",
              "      <th>Doors</th>\n",
              "      <td>-1177.924874</td>\n",
              "    </tr>\n",
              "    <tr>\n",
              "      <th>Sound</th>\n",
              "      <td>-856.210279</td>\n",
              "    </tr>\n",
              "    <tr>\n",
              "      <th>Mileage</th>\n",
              "      <td>-1106.465668</td>\n",
              "    </tr>\n",
              "    <tr>\n",
              "      <th>Leather</th>\n",
              "      <td>1536.652645</td>\n",
              "    </tr>\n",
              "  </tbody>\n",
              "</table>\n",
              "</div>\n",
              "      <button class=\"colab-df-convert\" onclick=\"convertToInteractive('df-94f70501-2190-49d9-a665-95449320370b')\"\n",
              "              title=\"Convert this dataframe to an interactive table.\"\n",
              "              style=\"display:none;\">\n",
              "        \n",
              "  <svg xmlns=\"http://www.w3.org/2000/svg\" height=\"24px\"viewBox=\"0 0 24 24\"\n",
              "       width=\"24px\">\n",
              "    <path d=\"M0 0h24v24H0V0z\" fill=\"none\"/>\n",
              "    <path d=\"M18.56 5.44l.94 2.06.94-2.06 2.06-.94-2.06-.94-.94-2.06-.94 2.06-2.06.94zm-11 1L8.5 8.5l.94-2.06 2.06-.94-2.06-.94L8.5 2.5l-.94 2.06-2.06.94zm10 10l.94 2.06.94-2.06 2.06-.94-2.06-.94-.94-2.06-.94 2.06-2.06.94z\"/><path d=\"M17.41 7.96l-1.37-1.37c-.4-.4-.92-.59-1.43-.59-.52 0-1.04.2-1.43.59L10.3 9.45l-7.72 7.72c-.78.78-.78 2.05 0 2.83L4 21.41c.39.39.9.59 1.41.59.51 0 1.02-.2 1.41-.59l7.78-7.78 2.81-2.81c.8-.78.8-2.07 0-2.86zM5.41 20L4 18.59l7.72-7.72 1.47 1.35L5.41 20z\"/>\n",
              "  </svg>\n",
              "      </button>\n",
              "      \n",
              "  <style>\n",
              "    .colab-df-container {\n",
              "      display:flex;\n",
              "      flex-wrap:wrap;\n",
              "      gap: 12px;\n",
              "    }\n",
              "\n",
              "    .colab-df-convert {\n",
              "      background-color: #E8F0FE;\n",
              "      border: none;\n",
              "      border-radius: 50%;\n",
              "      cursor: pointer;\n",
              "      display: none;\n",
              "      fill: #1967D2;\n",
              "      height: 32px;\n",
              "      padding: 0 0 0 0;\n",
              "      width: 32px;\n",
              "    }\n",
              "\n",
              "    .colab-df-convert:hover {\n",
              "      background-color: #E2EBFA;\n",
              "      box-shadow: 0px 1px 2px rgba(60, 64, 67, 0.3), 0px 1px 3px 1px rgba(60, 64, 67, 0.15);\n",
              "      fill: #174EA6;\n",
              "    }\n",
              "\n",
              "    [theme=dark] .colab-df-convert {\n",
              "      background-color: #3B4455;\n",
              "      fill: #D2E3FC;\n",
              "    }\n",
              "\n",
              "    [theme=dark] .colab-df-convert:hover {\n",
              "      background-color: #434B5C;\n",
              "      box-shadow: 0px 1px 3px 1px rgba(0, 0, 0, 0.15);\n",
              "      filter: drop-shadow(0px 1px 2px rgba(0, 0, 0, 0.3));\n",
              "      fill: #FFFFFF;\n",
              "    }\n",
              "  </style>\n",
              "\n",
              "      <script>\n",
              "        const buttonEl =\n",
              "          document.querySelector('#df-94f70501-2190-49d9-a665-95449320370b button.colab-df-convert');\n",
              "        buttonEl.style.display =\n",
              "          google.colab.kernel.accessAllowed ? 'block' : 'none';\n",
              "\n",
              "        async function convertToInteractive(key) {\n",
              "          const element = document.querySelector('#df-94f70501-2190-49d9-a665-95449320370b');\n",
              "          const dataTable =\n",
              "            await google.colab.kernel.invokeFunction('convertToInteractive',\n",
              "                                                     [key], {});\n",
              "          if (!dataTable) return;\n",
              "\n",
              "          const docLinkHtml = 'Like what you see? Visit the ' +\n",
              "            '<a target=\"_blank\" href=https://colab.research.google.com/notebooks/data_table.ipynb>data table notebook</a>'\n",
              "            + ' to learn more about interactive tables.';\n",
              "          element.innerHTML = '';\n",
              "          dataTable['output_type'] = 'display_data';\n",
              "          await google.colab.output.renderOutput(dataTable, element);\n",
              "          const docLink = document.createElement('div');\n",
              "          docLink.innerHTML = docLinkHtml;\n",
              "          element.appendChild(docLink);\n",
              "        }\n",
              "      </script>\n",
              "    </div>\n",
              "  </div>\n",
              "  "
            ]
          },
          "metadata": {},
          "execution_count": 167
        }
      ]
    },
    {
      "cell_type": "markdown",
      "source": [
        "\n",
        "According to the coefficients of the features Cylinder, Cruise, Leather, Mileage are the best features to predict the price of car."
      ],
      "metadata": {
        "id": "WqfnaTUe8rz8"
      }
    },
    {
      "cell_type": "markdown",
      "source": [
        "Hard Mode\n",
        "1) Research dummy variables in scikit-learn to see how to use the make, model, and body type."
      ],
      "metadata": {
        "id": "KW2GT_InCImP"
      }
    },
    {
      "cell_type": "code",
      "source": [
        "df"
      ],
      "metadata": {
        "colab": {
          "base_uri": "https://localhost:8080/",
          "height": 423
        },
        "id": "y1-N-6ovCUxT",
        "outputId": "dd02f10e-3591-4a30-d480-c83ea02e3507"
      },
      "execution_count": 168,
      "outputs": [
        {
          "output_type": "execute_result",
          "data": {
            "text/plain": [
              "            Price  Mileage    Make     Model           Trim   Type  Cylinder  \\\n",
              "0    17314.103129     8221   Buick   Century       Sedan 4D  Sedan         6   \n",
              "1    17542.036083     9135   Buick   Century       Sedan 4D  Sedan         6   \n",
              "2    16218.847862    13196   Buick   Century       Sedan 4D  Sedan         6   \n",
              "3    16336.913140    16342   Buick   Century       Sedan 4D  Sedan         6   \n",
              "4    16339.170324    19832   Buick   Century       Sedan 4D  Sedan         6   \n",
              "..            ...      ...     ...       ...            ...    ...       ...   \n",
              "799  16507.070267    16229  Saturn  L Series  L300 Sedan 4D  Sedan         6   \n",
              "800  16175.957604    19095  Saturn  L Series  L300 Sedan 4D  Sedan         6   \n",
              "801  15731.132897    20484  Saturn  L Series  L300 Sedan 4D  Sedan         6   \n",
              "802  15118.893228    25979  Saturn  L Series  L300 Sedan 4D  Sedan         6   \n",
              "803  13585.636802    35662  Saturn  L Series  L300 Sedan 4D  Sedan         6   \n",
              "\n",
              "     Liter  Doors  Cruise  Sound  Leather  Transformed_Mileage  \n",
              "0      3.1      4       1      1        1             9.014447  \n",
              "1      3.1      4       1      1        0             9.119868  \n",
              "2      3.1      4       1      1        0             9.487669  \n",
              "3      3.1      4       1      0        0             9.701494  \n",
              "4      3.1      4       1      0        1             9.895052  \n",
              "..     ...    ...     ...    ...      ...                  ...  \n",
              "799    3.0      4       1      0        0             9.694555  \n",
              "800    3.0      4       1      1        0             9.857182  \n",
              "801    3.0      4       1      1        0             9.927399  \n",
              "802    3.0      4       1      1        0            10.165044  \n",
              "803    3.0      4       1      0        0            10.481841  \n",
              "\n",
              "[804 rows x 13 columns]"
            ],
            "text/html": [
              "\n",
              "  <div id=\"df-25d31be0-56c6-4b47-9b5b-7bbb798b858e\">\n",
              "    <div class=\"colab-df-container\">\n",
              "      <div>\n",
              "<style scoped>\n",
              "    .dataframe tbody tr th:only-of-type {\n",
              "        vertical-align: middle;\n",
              "    }\n",
              "\n",
              "    .dataframe tbody tr th {\n",
              "        vertical-align: top;\n",
              "    }\n",
              "\n",
              "    .dataframe thead th {\n",
              "        text-align: right;\n",
              "    }\n",
              "</style>\n",
              "<table border=\"1\" class=\"dataframe\">\n",
              "  <thead>\n",
              "    <tr style=\"text-align: right;\">\n",
              "      <th></th>\n",
              "      <th>Price</th>\n",
              "      <th>Mileage</th>\n",
              "      <th>Make</th>\n",
              "      <th>Model</th>\n",
              "      <th>Trim</th>\n",
              "      <th>Type</th>\n",
              "      <th>Cylinder</th>\n",
              "      <th>Liter</th>\n",
              "      <th>Doors</th>\n",
              "      <th>Cruise</th>\n",
              "      <th>Sound</th>\n",
              "      <th>Leather</th>\n",
              "      <th>Transformed_Mileage</th>\n",
              "    </tr>\n",
              "  </thead>\n",
              "  <tbody>\n",
              "    <tr>\n",
              "      <th>0</th>\n",
              "      <td>17314.103129</td>\n",
              "      <td>8221</td>\n",
              "      <td>Buick</td>\n",
              "      <td>Century</td>\n",
              "      <td>Sedan 4D</td>\n",
              "      <td>Sedan</td>\n",
              "      <td>6</td>\n",
              "      <td>3.1</td>\n",
              "      <td>4</td>\n",
              "      <td>1</td>\n",
              "      <td>1</td>\n",
              "      <td>1</td>\n",
              "      <td>9.014447</td>\n",
              "    </tr>\n",
              "    <tr>\n",
              "      <th>1</th>\n",
              "      <td>17542.036083</td>\n",
              "      <td>9135</td>\n",
              "      <td>Buick</td>\n",
              "      <td>Century</td>\n",
              "      <td>Sedan 4D</td>\n",
              "      <td>Sedan</td>\n",
              "      <td>6</td>\n",
              "      <td>3.1</td>\n",
              "      <td>4</td>\n",
              "      <td>1</td>\n",
              "      <td>1</td>\n",
              "      <td>0</td>\n",
              "      <td>9.119868</td>\n",
              "    </tr>\n",
              "    <tr>\n",
              "      <th>2</th>\n",
              "      <td>16218.847862</td>\n",
              "      <td>13196</td>\n",
              "      <td>Buick</td>\n",
              "      <td>Century</td>\n",
              "      <td>Sedan 4D</td>\n",
              "      <td>Sedan</td>\n",
              "      <td>6</td>\n",
              "      <td>3.1</td>\n",
              "      <td>4</td>\n",
              "      <td>1</td>\n",
              "      <td>1</td>\n",
              "      <td>0</td>\n",
              "      <td>9.487669</td>\n",
              "    </tr>\n",
              "    <tr>\n",
              "      <th>3</th>\n",
              "      <td>16336.913140</td>\n",
              "      <td>16342</td>\n",
              "      <td>Buick</td>\n",
              "      <td>Century</td>\n",
              "      <td>Sedan 4D</td>\n",
              "      <td>Sedan</td>\n",
              "      <td>6</td>\n",
              "      <td>3.1</td>\n",
              "      <td>4</td>\n",
              "      <td>1</td>\n",
              "      <td>0</td>\n",
              "      <td>0</td>\n",
              "      <td>9.701494</td>\n",
              "    </tr>\n",
              "    <tr>\n",
              "      <th>4</th>\n",
              "      <td>16339.170324</td>\n",
              "      <td>19832</td>\n",
              "      <td>Buick</td>\n",
              "      <td>Century</td>\n",
              "      <td>Sedan 4D</td>\n",
              "      <td>Sedan</td>\n",
              "      <td>6</td>\n",
              "      <td>3.1</td>\n",
              "      <td>4</td>\n",
              "      <td>1</td>\n",
              "      <td>0</td>\n",
              "      <td>1</td>\n",
              "      <td>9.895052</td>\n",
              "    </tr>\n",
              "    <tr>\n",
              "      <th>...</th>\n",
              "      <td>...</td>\n",
              "      <td>...</td>\n",
              "      <td>...</td>\n",
              "      <td>...</td>\n",
              "      <td>...</td>\n",
              "      <td>...</td>\n",
              "      <td>...</td>\n",
              "      <td>...</td>\n",
              "      <td>...</td>\n",
              "      <td>...</td>\n",
              "      <td>...</td>\n",
              "      <td>...</td>\n",
              "      <td>...</td>\n",
              "    </tr>\n",
              "    <tr>\n",
              "      <th>799</th>\n",
              "      <td>16507.070267</td>\n",
              "      <td>16229</td>\n",
              "      <td>Saturn</td>\n",
              "      <td>L Series</td>\n",
              "      <td>L300 Sedan 4D</td>\n",
              "      <td>Sedan</td>\n",
              "      <td>6</td>\n",
              "      <td>3.0</td>\n",
              "      <td>4</td>\n",
              "      <td>1</td>\n",
              "      <td>0</td>\n",
              "      <td>0</td>\n",
              "      <td>9.694555</td>\n",
              "    </tr>\n",
              "    <tr>\n",
              "      <th>800</th>\n",
              "      <td>16175.957604</td>\n",
              "      <td>19095</td>\n",
              "      <td>Saturn</td>\n",
              "      <td>L Series</td>\n",
              "      <td>L300 Sedan 4D</td>\n",
              "      <td>Sedan</td>\n",
              "      <td>6</td>\n",
              "      <td>3.0</td>\n",
              "      <td>4</td>\n",
              "      <td>1</td>\n",
              "      <td>1</td>\n",
              "      <td>0</td>\n",
              "      <td>9.857182</td>\n",
              "    </tr>\n",
              "    <tr>\n",
              "      <th>801</th>\n",
              "      <td>15731.132897</td>\n",
              "      <td>20484</td>\n",
              "      <td>Saturn</td>\n",
              "      <td>L Series</td>\n",
              "      <td>L300 Sedan 4D</td>\n",
              "      <td>Sedan</td>\n",
              "      <td>6</td>\n",
              "      <td>3.0</td>\n",
              "      <td>4</td>\n",
              "      <td>1</td>\n",
              "      <td>1</td>\n",
              "      <td>0</td>\n",
              "      <td>9.927399</td>\n",
              "    </tr>\n",
              "    <tr>\n",
              "      <th>802</th>\n",
              "      <td>15118.893228</td>\n",
              "      <td>25979</td>\n",
              "      <td>Saturn</td>\n",
              "      <td>L Series</td>\n",
              "      <td>L300 Sedan 4D</td>\n",
              "      <td>Sedan</td>\n",
              "      <td>6</td>\n",
              "      <td>3.0</td>\n",
              "      <td>4</td>\n",
              "      <td>1</td>\n",
              "      <td>1</td>\n",
              "      <td>0</td>\n",
              "      <td>10.165044</td>\n",
              "    </tr>\n",
              "    <tr>\n",
              "      <th>803</th>\n",
              "      <td>13585.636802</td>\n",
              "      <td>35662</td>\n",
              "      <td>Saturn</td>\n",
              "      <td>L Series</td>\n",
              "      <td>L300 Sedan 4D</td>\n",
              "      <td>Sedan</td>\n",
              "      <td>6</td>\n",
              "      <td>3.0</td>\n",
              "      <td>4</td>\n",
              "      <td>1</td>\n",
              "      <td>0</td>\n",
              "      <td>0</td>\n",
              "      <td>10.481841</td>\n",
              "    </tr>\n",
              "  </tbody>\n",
              "</table>\n",
              "<p>804 rows × 13 columns</p>\n",
              "</div>\n",
              "      <button class=\"colab-df-convert\" onclick=\"convertToInteractive('df-25d31be0-56c6-4b47-9b5b-7bbb798b858e')\"\n",
              "              title=\"Convert this dataframe to an interactive table.\"\n",
              "              style=\"display:none;\">\n",
              "        \n",
              "  <svg xmlns=\"http://www.w3.org/2000/svg\" height=\"24px\"viewBox=\"0 0 24 24\"\n",
              "       width=\"24px\">\n",
              "    <path d=\"M0 0h24v24H0V0z\" fill=\"none\"/>\n",
              "    <path d=\"M18.56 5.44l.94 2.06.94-2.06 2.06-.94-2.06-.94-.94-2.06-.94 2.06-2.06.94zm-11 1L8.5 8.5l.94-2.06 2.06-.94-2.06-.94L8.5 2.5l-.94 2.06-2.06.94zm10 10l.94 2.06.94-2.06 2.06-.94-2.06-.94-.94-2.06-.94 2.06-2.06.94z\"/><path d=\"M17.41 7.96l-1.37-1.37c-.4-.4-.92-.59-1.43-.59-.52 0-1.04.2-1.43.59L10.3 9.45l-7.72 7.72c-.78.78-.78 2.05 0 2.83L4 21.41c.39.39.9.59 1.41.59.51 0 1.02-.2 1.41-.59l7.78-7.78 2.81-2.81c.8-.78.8-2.07 0-2.86zM5.41 20L4 18.59l7.72-7.72 1.47 1.35L5.41 20z\"/>\n",
              "  </svg>\n",
              "      </button>\n",
              "      \n",
              "  <style>\n",
              "    .colab-df-container {\n",
              "      display:flex;\n",
              "      flex-wrap:wrap;\n",
              "      gap: 12px;\n",
              "    }\n",
              "\n",
              "    .colab-df-convert {\n",
              "      background-color: #E8F0FE;\n",
              "      border: none;\n",
              "      border-radius: 50%;\n",
              "      cursor: pointer;\n",
              "      display: none;\n",
              "      fill: #1967D2;\n",
              "      height: 32px;\n",
              "      padding: 0 0 0 0;\n",
              "      width: 32px;\n",
              "    }\n",
              "\n",
              "    .colab-df-convert:hover {\n",
              "      background-color: #E2EBFA;\n",
              "      box-shadow: 0px 1px 2px rgba(60, 64, 67, 0.3), 0px 1px 3px 1px rgba(60, 64, 67, 0.15);\n",
              "      fill: #174EA6;\n",
              "    }\n",
              "\n",
              "    [theme=dark] .colab-df-convert {\n",
              "      background-color: #3B4455;\n",
              "      fill: #D2E3FC;\n",
              "    }\n",
              "\n",
              "    [theme=dark] .colab-df-convert:hover {\n",
              "      background-color: #434B5C;\n",
              "      box-shadow: 0px 1px 3px 1px rgba(0, 0, 0, 0.15);\n",
              "      filter: drop-shadow(0px 1px 2px rgba(0, 0, 0, 0.3));\n",
              "      fill: #FFFFFF;\n",
              "    }\n",
              "  </style>\n",
              "\n",
              "      <script>\n",
              "        const buttonEl =\n",
              "          document.querySelector('#df-25d31be0-56c6-4b47-9b5b-7bbb798b858e button.colab-df-convert');\n",
              "        buttonEl.style.display =\n",
              "          google.colab.kernel.accessAllowed ? 'block' : 'none';\n",
              "\n",
              "        async function convertToInteractive(key) {\n",
              "          const element = document.querySelector('#df-25d31be0-56c6-4b47-9b5b-7bbb798b858e');\n",
              "          const dataTable =\n",
              "            await google.colab.kernel.invokeFunction('convertToInteractive',\n",
              "                                                     [key], {});\n",
              "          if (!dataTable) return;\n",
              "\n",
              "          const docLinkHtml = 'Like what you see? Visit the ' +\n",
              "            '<a target=\"_blank\" href=https://colab.research.google.com/notebooks/data_table.ipynb>data table notebook</a>'\n",
              "            + ' to learn more about interactive tables.';\n",
              "          element.innerHTML = '';\n",
              "          dataTable['output_type'] = 'display_data';\n",
              "          await google.colab.output.renderOutput(dataTable, element);\n",
              "          const docLink = document.createElement('div');\n",
              "          docLink.innerHTML = docLinkHtml;\n",
              "          element.appendChild(docLink);\n",
              "        }\n",
              "      </script>\n",
              "    </div>\n",
              "  </div>\n",
              "  "
            ]
          },
          "metadata": {},
          "execution_count": 168
        }
      ]
    },
    {
      "cell_type": "code",
      "source": [
        "df= df.drop(columns= [\"Transformed_Mileage\"])"
      ],
      "metadata": {
        "id": "JHHyDz8aCpiy"
      },
      "execution_count": 169,
      "outputs": []
    },
    {
      "cell_type": "code",
      "source": [
        "df[\"Make\"].unique()"
      ],
      "metadata": {
        "colab": {
          "base_uri": "https://localhost:8080/"
        },
        "id": "0ZdDeWygCZAQ",
        "outputId": "c565e6fa-14d9-451a-8a11-e30c172abb4d"
      },
      "execution_count": 170,
      "outputs": [
        {
          "output_type": "execute_result",
          "data": {
            "text/plain": [
              "array(['Buick', 'Cadillac', 'Chevrolet', 'Pontiac', 'SAAB', 'Saturn'],\n",
              "      dtype=object)"
            ]
          },
          "metadata": {},
          "execution_count": 170
        }
      ]
    },
    {
      "cell_type": "code",
      "source": [
        "df[\"Model\"].unique()"
      ],
      "metadata": {
        "colab": {
          "base_uri": "https://localhost:8080/"
        },
        "id": "_YJpbXqiCf43",
        "outputId": "86fd4338-f68c-4430-bd5e-074ad673524e"
      },
      "execution_count": 171,
      "outputs": [
        {
          "output_type": "execute_result",
          "data": {
            "text/plain": [
              "array(['Century', 'Lacrosse', 'Lesabre', 'Park Avenue', 'CST-V', 'CTS',\n",
              "       'Deville', 'STS-V6', 'STS-V8', 'XLR-V8', 'AVEO', 'Cavalier',\n",
              "       'Classic', 'Cobalt', 'Corvette', 'Impala', 'Malibu', 'Monte Carlo',\n",
              "       'Bonneville', 'G6', 'Grand Am', 'Grand Prix', 'GTO', 'Sunfire',\n",
              "       'Vibe', '9_3', '9_3 HO', '9_5', '9_5 HO', '9-2X AWD', 'Ion',\n",
              "       'L Series'], dtype=object)"
            ]
          },
          "metadata": {},
          "execution_count": 171
        }
      ]
    },
    {
      "cell_type": "code",
      "source": [
        "df[\"Type\"].unique()"
      ],
      "metadata": {
        "colab": {
          "base_uri": "https://localhost:8080/"
        },
        "id": "Ub-HGHvbCzkL",
        "outputId": "fde60478-799c-4285-8a5a-7066488bf79c"
      },
      "execution_count": 172,
      "outputs": [
        {
          "output_type": "execute_result",
          "data": {
            "text/plain": [
              "array(['Sedan', 'Convertible', 'Hatchback', 'Coupe', 'Wagon'],\n",
              "      dtype=object)"
            ]
          },
          "metadata": {},
          "execution_count": 172
        }
      ]
    },
    {
      "cell_type": "code",
      "source": [
        "dummies1 = pd.get_dummies(df[\"Make\"])\n",
        "dummies2 = pd.get_dummies(df[\"Model\"])\n",
        "dummies3 = pd.get_dummies(df[\"Type\"])\n"
      ],
      "metadata": {
        "id": "61QEqOBbC8uM"
      },
      "execution_count": 173,
      "outputs": []
    },
    {
      "cell_type": "code",
      "source": [
        "df= pd.concat([df,dummies1,dummies2, dummies3], axis=\"columns\")"
      ],
      "metadata": {
        "id": "6vlGhv9eDLWU"
      },
      "execution_count": 174,
      "outputs": []
    },
    {
      "cell_type": "code",
      "source": [
        "df.shape"
      ],
      "metadata": {
        "colab": {
          "base_uri": "https://localhost:8080/"
        },
        "id": "Qoaha7hXDqSE",
        "outputId": "5082edb8-a956-42cf-f561-840ffa8aa2ef"
      },
      "execution_count": 175,
      "outputs": [
        {
          "output_type": "execute_result",
          "data": {
            "text/plain": [
              "(804, 55)"
            ]
          },
          "metadata": {},
          "execution_count": 175
        }
      ]
    },
    {
      "cell_type": "code",
      "source": [
        "df= df.drop([\"Make\",\"Model\",\"Type\",\"Trim\"], axis= 1)"
      ],
      "metadata": {
        "id": "pn2NbLnEGj4b"
      },
      "execution_count": 176,
      "outputs": []
    },
    {
      "cell_type": "code",
      "source": [
        "X= df.drop([\"Price\"], axis=\"columns\")\n",
        "Y= df[\"Price\"]"
      ],
      "metadata": {
        "id": "UXNf-vBUDsd5"
      },
      "execution_count": 177,
      "outputs": []
    },
    {
      "cell_type": "code",
      "source": [
        "X.shape, Y.shape"
      ],
      "metadata": {
        "colab": {
          "base_uri": "https://localhost:8080/"
        },
        "id": "L4omb5AvFgBN",
        "outputId": "9b63efd3-63e1-41ae-ca8a-1eb7c92173bc"
      },
      "execution_count": 178,
      "outputs": [
        {
          "output_type": "execute_result",
          "data": {
            "text/plain": [
              "((804, 50), (804,))"
            ]
          },
          "metadata": {},
          "execution_count": 178
        }
      ]
    },
    {
      "cell_type": "code",
      "source": [
        "X_train, X_test, Y_train, Y_test = train_test_split(X,Y,test_size= 0.2, random_state=10)"
      ],
      "metadata": {
        "id": "fVy3xnMIE_RE"
      },
      "execution_count": 179,
      "outputs": []
    },
    {
      "cell_type": "code",
      "source": [
        "X_train.shape, X_test.shape, Y_train.shape, Y_test.shape"
      ],
      "metadata": {
        "colab": {
          "base_uri": "https://localhost:8080/"
        },
        "id": "HxIOCoDJFqdn",
        "outputId": "64da9b81-41af-4c5d-9aa3-a41e8dca5f67"
      },
      "execution_count": 180,
      "outputs": [
        {
          "output_type": "execute_result",
          "data": {
            "text/plain": [
              "((643, 50), (161, 50), (643,), (161,))"
            ]
          },
          "metadata": {},
          "execution_count": 180
        }
      ]
    },
    {
      "cell_type": "code",
      "source": [
        "df.dtypes"
      ],
      "metadata": {
        "colab": {
          "base_uri": "https://localhost:8080/"
        },
        "id": "-kaMXf9zGcuz",
        "outputId": "43858656-cf49-4837-b8f1-07acec9b9b41"
      },
      "execution_count": 181,
      "outputs": [
        {
          "output_type": "execute_result",
          "data": {
            "text/plain": [
              "Price          float64\n",
              "Mileage          int64\n",
              "Cylinder         int64\n",
              "Liter          float64\n",
              "Doors            int64\n",
              "Cruise           int64\n",
              "Sound            int64\n",
              "Leather          int64\n",
              "Buick            uint8\n",
              "Cadillac         uint8\n",
              "Chevrolet        uint8\n",
              "Pontiac          uint8\n",
              "SAAB             uint8\n",
              "Saturn           uint8\n",
              "9-2X AWD         uint8\n",
              "9_3              uint8\n",
              "9_3 HO           uint8\n",
              "9_5              uint8\n",
              "9_5 HO           uint8\n",
              "AVEO             uint8\n",
              "Bonneville       uint8\n",
              "CST-V            uint8\n",
              "CTS              uint8\n",
              "Cavalier         uint8\n",
              "Century          uint8\n",
              "Classic          uint8\n",
              "Cobalt           uint8\n",
              "Corvette         uint8\n",
              "Deville          uint8\n",
              "G6               uint8\n",
              "GTO              uint8\n",
              "Grand Am         uint8\n",
              "Grand Prix       uint8\n",
              "Impala           uint8\n",
              "Ion              uint8\n",
              "L Series         uint8\n",
              "Lacrosse         uint8\n",
              "Lesabre          uint8\n",
              "Malibu           uint8\n",
              "Monte Carlo      uint8\n",
              "Park Avenue      uint8\n",
              "STS-V6           uint8\n",
              "STS-V8           uint8\n",
              "Sunfire          uint8\n",
              "Vibe             uint8\n",
              "XLR-V8           uint8\n",
              "Convertible      uint8\n",
              "Coupe            uint8\n",
              "Hatchback        uint8\n",
              "Sedan            uint8\n",
              "Wagon            uint8\n",
              "dtype: object"
            ]
          },
          "metadata": {},
          "execution_count": 181
        }
      ]
    },
    {
      "cell_type": "code",
      "source": [
        "from sklearn.linear_model import LinearRegression\n",
        "lr= LinearRegression()\n",
        "lr.fit(X_train,Y_train)\n",
        "lr.score(X_test,Y_test)"
      ],
      "metadata": {
        "colab": {
          "base_uri": "https://localhost:8080/"
        },
        "id": "LYe8dEjKGQ96",
        "outputId": "86c2b462-8c08-4934-c7da-89b3b5b269e2"
      },
      "execution_count": 182,
      "outputs": [
        {
          "output_type": "execute_result",
          "data": {
            "text/plain": [
              "0.9810360980255105"
            ]
          },
          "metadata": {},
          "execution_count": 182
        }
      ]
    },
    {
      "cell_type": "code",
      "source": [
        "from sklearn.metrics import r2_score\n",
        "accuracy= r2_score(Y_test,lr.predict(X_test))\n",
        "accuracy"
      ],
      "metadata": {
        "colab": {
          "base_uri": "https://localhost:8080/"
        },
        "id": "GXpvJWP9HeP-",
        "outputId": "9ccdd890-cd60-40c3-aef0-3837716f268e"
      },
      "execution_count": 186,
      "outputs": [
        {
          "output_type": "execute_result",
          "data": {
            "text/plain": [
              "0.9810360980255105"
            ]
          },
          "metadata": {},
          "execution_count": 186
        }
      ]
    },
    {
      "cell_type": "code",
      "source": [
        "Y_pred= lr.predict(X_test)"
      ],
      "metadata": {
        "id": "QEuZWZAHG-23"
      },
      "execution_count": 183,
      "outputs": []
    },
    {
      "cell_type": "code",
      "source": [
        "print(lr.intercept_)\n",
        "print(lr.coef_)"
      ],
      "metadata": {
        "colab": {
          "base_uri": "https://localhost:8080/"
        },
        "id": "eQWNQWvfHC3S",
        "outputId": "cda9e4ca-3773-40ae-a7b0-94e575a7be04"
      },
      "execution_count": 184,
      "outputs": [
        {
          "output_type": "stream",
          "name": "stdout",
          "text": [
            "25812.02302872007\n",
            "[-1.79012126e-01  7.64012560e+02  7.54855447e+02 -1.32298625e+03\n",
            " -8.30240420e+01  3.15325498e+02  3.29929085e+02 -3.01257985e+03\n",
            "  1.30920604e+04 -4.81025517e+03 -4.59434371e+03  4.44365165e+03\n",
            " -5.11853330e+03 -2.78971269e+03  2.43698638e+02  1.47767176e+03\n",
            "  3.44470698e+03  2.06728697e+03 -5.45854632e+03  5.84533351e+02\n",
            "  4.32796691e+03 -6.88501665e+03 -4.16046387e+03 -4.83575294e+03\n",
            " -2.97756385e+03 -3.35229308e+03  1.27412486e+04 -3.19817230e+03\n",
            "  3.07452732e+02  6.20228590e+03 -4.14778912e+03 -1.58825662e+03\n",
            "  6.39263469e+02 -2.77281663e+03 -2.34571667e+03  1.96746235e+02\n",
            " -1.19170690e+03 -2.38343888e+03  1.41538747e+02  2.81813376e+03\n",
            " -7.79758546e+01  2.83539102e+03 -4.55207662e+03 -1.40049334e+03\n",
            "  1.60898672e+04  3.48134954e+03 -2.81985642e+03 -4.69411915e+02\n",
            " -5.49115250e+02  3.57034040e+02]\n"
          ]
        }
      ]
    },
    {
      "cell_type": "code",
      "source": [
        "coef_df= pd.DataFrame(lr.coef_, X.columns, columns=[\"Coefficient\"]) \n",
        "Y_predict= lr.predict(X_test)\n",
        "coef_df"
      ],
      "metadata": {
        "colab": {
          "base_uri": "https://localhost:8080/",
          "height": 1000
        },
        "id": "no2RVystHJAw",
        "outputId": "8a8d211d-f28f-442a-89dd-026e408e9dba"
      },
      "execution_count": 185,
      "outputs": [
        {
          "output_type": "execute_result",
          "data": {
            "text/plain": [
              "              Coefficient\n",
              "Mileage         -0.179012\n",
              "Cylinder       764.012560\n",
              "Liter          754.855447\n",
              "Doors        -1322.986251\n",
              "Cruise         -83.024042\n",
              "Sound          315.325498\n",
              "Leather        329.929085\n",
              "Buick        -3012.579846\n",
              "Cadillac     13092.060381\n",
              "Chevrolet    -4810.255173\n",
              "Pontiac      -4594.343710\n",
              "SAAB          4443.651648\n",
              "Saturn       -5118.533300\n",
              "9-2X AWD     -2789.712694\n",
              "9_3            243.698638\n",
              "9_3 HO        1477.671758\n",
              "9_5           3444.706981\n",
              "9_5 HO        2067.286965\n",
              "AVEO         -5458.546316\n",
              "Bonneville     584.533351\n",
              "CST-V         4327.966914\n",
              "CTS          -6885.016646\n",
              "Cavalier     -4160.463868\n",
              "Century      -4835.752945\n",
              "Classic      -2977.563852\n",
              "Cobalt       -3352.293082\n",
              "Corvette     12741.248605\n",
              "Deville      -3198.172300\n",
              "G6             307.452732\n",
              "GTO           6202.285899\n",
              "Grand Am     -4147.789117\n",
              "Grand Prix   -1588.256616\n",
              "Impala         639.263469\n",
              "Ion          -2772.816634\n",
              "L Series     -2345.716666\n",
              "Lacrosse       196.746235\n",
              "Lesabre      -1191.706896\n",
              "Malibu       -2383.438877\n",
              "Monte Carlo    141.538747\n",
              "Park Avenue   2818.133759\n",
              "STS-V6         -77.975855\n",
              "STS-V8        2835.391024\n",
              "Sunfire      -4552.076620\n",
              "Vibe         -1400.493340\n",
              "XLR-V8       16089.867243\n",
              "Convertible   3481.349543\n",
              "Coupe        -2819.856418\n",
              "Hatchback     -469.411915\n",
              "Sedan         -549.115250\n",
              "Wagon          357.034040"
            ],
            "text/html": [
              "\n",
              "  <div id=\"df-2da0040b-5fde-4044-bbc7-132282acf8fd\">\n",
              "    <div class=\"colab-df-container\">\n",
              "      <div>\n",
              "<style scoped>\n",
              "    .dataframe tbody tr th:only-of-type {\n",
              "        vertical-align: middle;\n",
              "    }\n",
              "\n",
              "    .dataframe tbody tr th {\n",
              "        vertical-align: top;\n",
              "    }\n",
              "\n",
              "    .dataframe thead th {\n",
              "        text-align: right;\n",
              "    }\n",
              "</style>\n",
              "<table border=\"1\" class=\"dataframe\">\n",
              "  <thead>\n",
              "    <tr style=\"text-align: right;\">\n",
              "      <th></th>\n",
              "      <th>Coefficient</th>\n",
              "    </tr>\n",
              "  </thead>\n",
              "  <tbody>\n",
              "    <tr>\n",
              "      <th>Mileage</th>\n",
              "      <td>-0.179012</td>\n",
              "    </tr>\n",
              "    <tr>\n",
              "      <th>Cylinder</th>\n",
              "      <td>764.012560</td>\n",
              "    </tr>\n",
              "    <tr>\n",
              "      <th>Liter</th>\n",
              "      <td>754.855447</td>\n",
              "    </tr>\n",
              "    <tr>\n",
              "      <th>Doors</th>\n",
              "      <td>-1322.986251</td>\n",
              "    </tr>\n",
              "    <tr>\n",
              "      <th>Cruise</th>\n",
              "      <td>-83.024042</td>\n",
              "    </tr>\n",
              "    <tr>\n",
              "      <th>Sound</th>\n",
              "      <td>315.325498</td>\n",
              "    </tr>\n",
              "    <tr>\n",
              "      <th>Leather</th>\n",
              "      <td>329.929085</td>\n",
              "    </tr>\n",
              "    <tr>\n",
              "      <th>Buick</th>\n",
              "      <td>-3012.579846</td>\n",
              "    </tr>\n",
              "    <tr>\n",
              "      <th>Cadillac</th>\n",
              "      <td>13092.060381</td>\n",
              "    </tr>\n",
              "    <tr>\n",
              "      <th>Chevrolet</th>\n",
              "      <td>-4810.255173</td>\n",
              "    </tr>\n",
              "    <tr>\n",
              "      <th>Pontiac</th>\n",
              "      <td>-4594.343710</td>\n",
              "    </tr>\n",
              "    <tr>\n",
              "      <th>SAAB</th>\n",
              "      <td>4443.651648</td>\n",
              "    </tr>\n",
              "    <tr>\n",
              "      <th>Saturn</th>\n",
              "      <td>-5118.533300</td>\n",
              "    </tr>\n",
              "    <tr>\n",
              "      <th>9-2X AWD</th>\n",
              "      <td>-2789.712694</td>\n",
              "    </tr>\n",
              "    <tr>\n",
              "      <th>9_3</th>\n",
              "      <td>243.698638</td>\n",
              "    </tr>\n",
              "    <tr>\n",
              "      <th>9_3 HO</th>\n",
              "      <td>1477.671758</td>\n",
              "    </tr>\n",
              "    <tr>\n",
              "      <th>9_5</th>\n",
              "      <td>3444.706981</td>\n",
              "    </tr>\n",
              "    <tr>\n",
              "      <th>9_5 HO</th>\n",
              "      <td>2067.286965</td>\n",
              "    </tr>\n",
              "    <tr>\n",
              "      <th>AVEO</th>\n",
              "      <td>-5458.546316</td>\n",
              "    </tr>\n",
              "    <tr>\n",
              "      <th>Bonneville</th>\n",
              "      <td>584.533351</td>\n",
              "    </tr>\n",
              "    <tr>\n",
              "      <th>CST-V</th>\n",
              "      <td>4327.966914</td>\n",
              "    </tr>\n",
              "    <tr>\n",
              "      <th>CTS</th>\n",
              "      <td>-6885.016646</td>\n",
              "    </tr>\n",
              "    <tr>\n",
              "      <th>Cavalier</th>\n",
              "      <td>-4160.463868</td>\n",
              "    </tr>\n",
              "    <tr>\n",
              "      <th>Century</th>\n",
              "      <td>-4835.752945</td>\n",
              "    </tr>\n",
              "    <tr>\n",
              "      <th>Classic</th>\n",
              "      <td>-2977.563852</td>\n",
              "    </tr>\n",
              "    <tr>\n",
              "      <th>Cobalt</th>\n",
              "      <td>-3352.293082</td>\n",
              "    </tr>\n",
              "    <tr>\n",
              "      <th>Corvette</th>\n",
              "      <td>12741.248605</td>\n",
              "    </tr>\n",
              "    <tr>\n",
              "      <th>Deville</th>\n",
              "      <td>-3198.172300</td>\n",
              "    </tr>\n",
              "    <tr>\n",
              "      <th>G6</th>\n",
              "      <td>307.452732</td>\n",
              "    </tr>\n",
              "    <tr>\n",
              "      <th>GTO</th>\n",
              "      <td>6202.285899</td>\n",
              "    </tr>\n",
              "    <tr>\n",
              "      <th>Grand Am</th>\n",
              "      <td>-4147.789117</td>\n",
              "    </tr>\n",
              "    <tr>\n",
              "      <th>Grand Prix</th>\n",
              "      <td>-1588.256616</td>\n",
              "    </tr>\n",
              "    <tr>\n",
              "      <th>Impala</th>\n",
              "      <td>639.263469</td>\n",
              "    </tr>\n",
              "    <tr>\n",
              "      <th>Ion</th>\n",
              "      <td>-2772.816634</td>\n",
              "    </tr>\n",
              "    <tr>\n",
              "      <th>L Series</th>\n",
              "      <td>-2345.716666</td>\n",
              "    </tr>\n",
              "    <tr>\n",
              "      <th>Lacrosse</th>\n",
              "      <td>196.746235</td>\n",
              "    </tr>\n",
              "    <tr>\n",
              "      <th>Lesabre</th>\n",
              "      <td>-1191.706896</td>\n",
              "    </tr>\n",
              "    <tr>\n",
              "      <th>Malibu</th>\n",
              "      <td>-2383.438877</td>\n",
              "    </tr>\n",
              "    <tr>\n",
              "      <th>Monte Carlo</th>\n",
              "      <td>141.538747</td>\n",
              "    </tr>\n",
              "    <tr>\n",
              "      <th>Park Avenue</th>\n",
              "      <td>2818.133759</td>\n",
              "    </tr>\n",
              "    <tr>\n",
              "      <th>STS-V6</th>\n",
              "      <td>-77.975855</td>\n",
              "    </tr>\n",
              "    <tr>\n",
              "      <th>STS-V8</th>\n",
              "      <td>2835.391024</td>\n",
              "    </tr>\n",
              "    <tr>\n",
              "      <th>Sunfire</th>\n",
              "      <td>-4552.076620</td>\n",
              "    </tr>\n",
              "    <tr>\n",
              "      <th>Vibe</th>\n",
              "      <td>-1400.493340</td>\n",
              "    </tr>\n",
              "    <tr>\n",
              "      <th>XLR-V8</th>\n",
              "      <td>16089.867243</td>\n",
              "    </tr>\n",
              "    <tr>\n",
              "      <th>Convertible</th>\n",
              "      <td>3481.349543</td>\n",
              "    </tr>\n",
              "    <tr>\n",
              "      <th>Coupe</th>\n",
              "      <td>-2819.856418</td>\n",
              "    </tr>\n",
              "    <tr>\n",
              "      <th>Hatchback</th>\n",
              "      <td>-469.411915</td>\n",
              "    </tr>\n",
              "    <tr>\n",
              "      <th>Sedan</th>\n",
              "      <td>-549.115250</td>\n",
              "    </tr>\n",
              "    <tr>\n",
              "      <th>Wagon</th>\n",
              "      <td>357.034040</td>\n",
              "    </tr>\n",
              "  </tbody>\n",
              "</table>\n",
              "</div>\n",
              "      <button class=\"colab-df-convert\" onclick=\"convertToInteractive('df-2da0040b-5fde-4044-bbc7-132282acf8fd')\"\n",
              "              title=\"Convert this dataframe to an interactive table.\"\n",
              "              style=\"display:none;\">\n",
              "        \n",
              "  <svg xmlns=\"http://www.w3.org/2000/svg\" height=\"24px\"viewBox=\"0 0 24 24\"\n",
              "       width=\"24px\">\n",
              "    <path d=\"M0 0h24v24H0V0z\" fill=\"none\"/>\n",
              "    <path d=\"M18.56 5.44l.94 2.06.94-2.06 2.06-.94-2.06-.94-.94-2.06-.94 2.06-2.06.94zm-11 1L8.5 8.5l.94-2.06 2.06-.94-2.06-.94L8.5 2.5l-.94 2.06-2.06.94zm10 10l.94 2.06.94-2.06 2.06-.94-2.06-.94-.94-2.06-.94 2.06-2.06.94z\"/><path d=\"M17.41 7.96l-1.37-1.37c-.4-.4-.92-.59-1.43-.59-.52 0-1.04.2-1.43.59L10.3 9.45l-7.72 7.72c-.78.78-.78 2.05 0 2.83L4 21.41c.39.39.9.59 1.41.59.51 0 1.02-.2 1.41-.59l7.78-7.78 2.81-2.81c.8-.78.8-2.07 0-2.86zM5.41 20L4 18.59l7.72-7.72 1.47 1.35L5.41 20z\"/>\n",
              "  </svg>\n",
              "      </button>\n",
              "      \n",
              "  <style>\n",
              "    .colab-df-container {\n",
              "      display:flex;\n",
              "      flex-wrap:wrap;\n",
              "      gap: 12px;\n",
              "    }\n",
              "\n",
              "    .colab-df-convert {\n",
              "      background-color: #E8F0FE;\n",
              "      border: none;\n",
              "      border-radius: 50%;\n",
              "      cursor: pointer;\n",
              "      display: none;\n",
              "      fill: #1967D2;\n",
              "      height: 32px;\n",
              "      padding: 0 0 0 0;\n",
              "      width: 32px;\n",
              "    }\n",
              "\n",
              "    .colab-df-convert:hover {\n",
              "      background-color: #E2EBFA;\n",
              "      box-shadow: 0px 1px 2px rgba(60, 64, 67, 0.3), 0px 1px 3px 1px rgba(60, 64, 67, 0.15);\n",
              "      fill: #174EA6;\n",
              "    }\n",
              "\n",
              "    [theme=dark] .colab-df-convert {\n",
              "      background-color: #3B4455;\n",
              "      fill: #D2E3FC;\n",
              "    }\n",
              "\n",
              "    [theme=dark] .colab-df-convert:hover {\n",
              "      background-color: #434B5C;\n",
              "      box-shadow: 0px 1px 3px 1px rgba(0, 0, 0, 0.15);\n",
              "      filter: drop-shadow(0px 1px 2px rgba(0, 0, 0, 0.3));\n",
              "      fill: #FFFFFF;\n",
              "    }\n",
              "  </style>\n",
              "\n",
              "      <script>\n",
              "        const buttonEl =\n",
              "          document.querySelector('#df-2da0040b-5fde-4044-bbc7-132282acf8fd button.colab-df-convert');\n",
              "        buttonEl.style.display =\n",
              "          google.colab.kernel.accessAllowed ? 'block' : 'none';\n",
              "\n",
              "        async function convertToInteractive(key) {\n",
              "          const element = document.querySelector('#df-2da0040b-5fde-4044-bbc7-132282acf8fd');\n",
              "          const dataTable =\n",
              "            await google.colab.kernel.invokeFunction('convertToInteractive',\n",
              "                                                     [key], {});\n",
              "          if (!dataTable) return;\n",
              "\n",
              "          const docLinkHtml = 'Like what you see? Visit the ' +\n",
              "            '<a target=\"_blank\" href=https://colab.research.google.com/notebooks/data_table.ipynb>data table notebook</a>'\n",
              "            + ' to learn more about interactive tables.';\n",
              "          element.innerHTML = '';\n",
              "          dataTable['output_type'] = 'display_data';\n",
              "          await google.colab.output.renderOutput(dataTable, element);\n",
              "          const docLink = document.createElement('div');\n",
              "          docLink.innerHTML = docLinkHtml;\n",
              "          element.appendChild(docLink);\n",
              "        }\n",
              "      </script>\n",
              "    </div>\n",
              "  </div>\n",
              "  "
            ]
          },
          "metadata": {},
          "execution_count": 185
        }
      ]
    }
  ],
  "metadata": {
    "kernelspec": {
      "display_name": "Python 3",
      "language": "python",
      "name": "python3"
    },
    "language_info": {
      "codemirror_mode": {
        "name": "ipython",
        "version": 3
      },
      "file_extension": ".py",
      "mimetype": "text/x-python",
      "name": "python",
      "nbconvert_exporter": "python",
      "pygments_lexer": "ipython3",
      "version": "3.8.3"
    },
    "colab": {
      "name": "Assignment8.ipynb",
      "provenance": [],
      "include_colab_link": true
    }
  },
  "nbformat": 4,
  "nbformat_minor": 0
}